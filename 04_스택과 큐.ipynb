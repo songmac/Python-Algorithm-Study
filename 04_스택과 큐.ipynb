{
 "cells": [
  {
   "cell_type": "markdown",
   "id": "cc6d39a2",
   "metadata": {},
   "source": [
    "# 04-1. 스택이란?"
   ]
  },
  {
   "cell_type": "markdown",
   "id": "f32d29ab",
   "metadata": {},
   "source": [
    "## 스택 알아보기\n",
    "\n",
    "스택(stack, 마른 풀을 쌓은 더미 혹은 겹겹이 쌓음)은 데이터를 임시 저장할 때 사용하는 자료 구조\n",
    "\n",
    "- 데이터의 입력과 출력 순서는 후입선출(LIFO, Last In First Out)방식\n",
    "    - 푸시(push) : 스택에 데이터를 넣는 작업\n",
    "    - 팝(pop) : 스택에서 데이터를 꺼내는 작업\n",
    "    - 꼭대기(top) : 푸시/팝 하는 윗부분\n",
    "    - 바닥(bottom) : 푸시/팝 하는 아랫부분"
   ]
  },
  {
   "cell_type": "markdown",
   "id": "280f6f87",
   "metadata": {},
   "source": [
    "## 스택 구현하기\n",
    "\n",
    "- 스택 배열(stk) : 푸시한 데이터를 저장하는 list형 배열\n",
    "- 스택 크기(capacity) : 스택에 쌓을 수 있는 데이터의 최대 개수를 나타내는 int형 정수\n",
    "- 스택 포인터(ptr) : 스택에 쌓여 있는 데이터의 개수를 나타내는 정숫값\n",
    "    - 가장 마지막에 푸시한 원소의 인덱스에 1을 더한 값과 일치\n",
    "    - 스택 포인터의 범위를 지정할 때 프로그램 오류를 방지하기 위해 ptr == 0 or capacity 로 설정하기 보단 < or >= 연산자를 이용하는 것이 좋음"
   ]
  },
  {
   "cell_type": "markdown",
   "id": "3bffb256",
   "metadata": {},
   "source": [
    "### 실습 4-1[A]. 고정 길이 스택 클래스 FixedStack 구현하기"
   ]
  },
  {
   "cell_type": "code",
   "execution_count": null,
   "id": "c68aebf0",
   "metadata": {},
   "outputs": [],
   "source": [
    "from typing import Any\n",
    "\n",
    "class FixedStack:\n",
    "    \"\"\"고정 길이 스택 클래스\"\"\"\n",
    "\n",
    "    class Empty(Exception):\n",
    "        \"\"\"비어 있는 FixedStack에 팝(pop) 또는 피크(peek)할 때 내보내는 예외 처리\"\"\" # 피크?\n",
    "        pass\n",
    "\n",
    "    class Full(Exception):\n",
    "        \"\"\"가득 찬 FixedStack에 푸시할 때 내보내는 예외 처리\"\"\"\n",
    "        pass\n",
    "    \n",
    "\n",
    "    def __init__(self, capacity: int = 256) -> None:\n",
    "        \"\"\"스택 초기화\"\"\"\n",
    "        self.stk = [None] * capacity  # 스택 본체\n",
    "        self.capacity = capacity  # 스택 크기\n",
    "        self.ptr = 0  # 스택 포인터\n",
    "\n",
    "    def __len__(self) -> int:\n",
    "        \"\"\"스택에 쌓여 있는 데이터 개수를 반환\"\"\"\n",
    "        return self.ptr\n",
    "    \n",
    "    def is_empty(self) -> bool:\n",
    "        \"\"\"스택이 비어 있는지 판단\"\"\"\n",
    "        return self.ptr <= 0\n",
    "    \n",
    "    def is_full(self) -> bool:\n",
    "        \"\"\"스택이 가득 차 있는지 판단\"\"\"\n",
    "        return self.ptr >= self.capacity"
   ]
  },
  {
   "cell_type": "markdown",
   "id": "6746e93e",
   "metadata": {},
   "source": [
    "# 04-2. 큐란?"
   ]
  },
  {
   "cell_type": "markdown",
   "id": "cea99939",
   "metadata": {},
   "source": []
  }
 ],
 "metadata": {
  "language_info": {
   "name": "python"
  }
 },
 "nbformat": 4,
 "nbformat_minor": 5
}
