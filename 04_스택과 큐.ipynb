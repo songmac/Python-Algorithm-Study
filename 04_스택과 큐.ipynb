{
 "cells": [
  {
   "cell_type": "markdown",
   "id": "cc6d39a2",
   "metadata": {},
   "source": [
    "# 04-1. 스택이란?"
   ]
  },
  {
   "cell_type": "code",
   "execution_count": null,
   "id": "c68aebf0",
   "metadata": {},
   "outputs": [],
   "source": []
  },
  {
   "cell_type": "markdown",
   "id": "6746e93e",
   "metadata": {},
   "source": [
    "# 04-2. 큐란?"
   ]
  },
  {
   "cell_type": "markdown",
   "id": "cea99939",
   "metadata": {},
   "source": []
  }
 ],
 "metadata": {
  "language_info": {
   "name": "python"
  }
 },
 "nbformat": 4,
 "nbformat_minor": 5
}
