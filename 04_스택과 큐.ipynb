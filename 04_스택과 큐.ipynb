{
 "cells": [
  {
   "cell_type": "markdown",
   "id": "cc6d39a2",
   "metadata": {},
   "source": [
    "# 04-1. 스택이란?"
   ]
  },
  {
   "cell_type": "markdown",
   "id": "f32d29ab",
   "metadata": {},
   "source": [
    "## 스택 알아보기\n",
    "\n",
    "스택(stack, 마른 풀을 쌓은 더미 혹은 겹겹이 쌓음)은 데이터를 임시 저장할 때 사용하는 자료 구조\n",
    "\n",
    "- 데이터의 입력과 출력 순서는 후입선출(LIFO, Last In First Out)방식\n",
    "    - 푸시(push) : 스택에 데이터를 넣는 작업\n",
    "    - 팝(pop) : 스택에서 데이터를 꺼내는 작업\n",
    "    - 꼭대기(top) : 푸시/팝 하는 윗부분\n",
    "    - 바닥(bottom) : 푸시/팝 하는 아랫부분"
   ]
  },
  {
   "cell_type": "markdown",
   "id": "280f6f87",
   "metadata": {},
   "source": [
    "## 스택 구현하기\n",
    "\n",
    "- 스택 배열(stk) : 푸시한 데이터를 저장하는 list형 배열\n",
    "- 스택 크기(capacity) : 스택에 쌓을 수 있는 데이터의 최대 개수를 나타내는 int형 정수\n",
    "- 스택 포인터(ptr) : 스택에 쌓여 있는 데이터의 개수를 나타내는 정숫값\n",
    "    - 가장 마지막에 푸시한 원소의 인덱스에 1을 더한 값과 일치\n",
    "    - 스택 포인터의 범위를 지정할 때 프로그램 오류를 방지하기 위해 ptr == 0 or capacity 로 설정하기 보단 < or >= 연산자를 이용하는 것이 좋음"
   ]
  },
  {
   "cell_type": "markdown",
   "id": "3bffb256",
   "metadata": {},
   "source": [
    "### 실습 4-1[A~C]. 고정 길이 스택 클래스 FixedStack 구현하기"
   ]
  },
  {
   "cell_type": "code",
   "execution_count": null,
   "id": "c68aebf0",
   "metadata": {},
   "outputs": [
    {
     "name": "stdout",
     "output_type": "stream",
     "text": [
      "Writing fixed_stack.py\n"
     ]
    }
   ],
   "source": [
    "%%writefile fixed_stack.py\n",
    "\n",
    "from typing import Any\n",
    "\n",
    "class FixedStack:\n",
    "    \"\"\"고정 길이 스택 클래스\"\"\"\n",
    "\n",
    "    class Empty(Exception): \n",
    "        \"\"\"비어 있는 FixedStack에 팝(pop) 또는 피크(peek)할 때 내보내는 예외 처리\"\"\" # 피크(peek)? 데이터를 꺼내지 않고 들여다만 보는 동작 (pop과 달리 값을 삭제하지 않음)\n",
    "        pass\n",
    "\n",
    "    class Full(Exception):\n",
    "        \"\"\"가득 찬 FixedStack에 푸시할 때 내보내는 예외 처리\"\"\"\n",
    "        pass\n",
    "    \n",
    "\n",
    "    def __init__(self, capacity: int = 256) -> None:  # 객체가 생성될 때 초기화 작업을 담당하는 생성자로 파이썬 매직 메서드임\n",
    "        \"\"\"스택 초기화\"\"\"\n",
    "        self.stk = [None] * capacity  # 스택 본체 # self : 현재 실행 중인 객체 자신\"을 명확히 가리키는 키워드\n",
    "        self.capacity = capacity  # 스택 크기\n",
    "        self.ptr = 0  # 스택 포인터\n",
    "\n",
    "    def __len__(self) -> int:  # len() 함수를 쓸 수 있게 하는 파이썬의 매직 메서드임\n",
    "        \"\"\"스택에 쌓여 있는 데이터 개수를 반환\"\"\"\n",
    "        return self.ptr\n",
    "    \n",
    "    def is_empty(self) -> bool:\n",
    "        \"\"\"스택이 비어 있는지 판단\"\"\"\n",
    "        return self.ptr <= 0\n",
    "    \n",
    "    def is_full(self) -> bool:\n",
    "        \"\"\"스택이 가득 차 있는지 판단\"\"\"\n",
    "        return self.ptr >= self.capacity\n",
    "    \n",
    "\n",
    "    def push(self, value: Any) -> None:\n",
    "        \"\"\"스택에 value를 푸시\"\"\"\n",
    "        if self.is_full():  # 함수 호출에 self가 붙는 이유? \n",
    "                            # - FixedStack 클래스에 정의된 인스턴스(클래스를 기반으로 생성된 실제 객체) 메서드임\n",
    "                            # - 내부에서 호출할 때는 반드시 그 인스턴스에서 호출해야 함\n",
    "                            # - 그렇지 않으면 전역 함수나 로컬 함수로 착각해 에러 발생\n",
    "            raise FixedStack.Full  # 스택이 가득 차 있으면 예외 처리 발생\n",
    "        self.stk[self.ptr] = value\n",
    "        self.ptr += 1\n",
    "\n",
    "    def pop(self) -> Any:\n",
    "        \"\"\"스택에서 데이터를 팝\"\"\"\n",
    "        if self.is_empty(): \n",
    "            raise FixedStack.Empty\n",
    "        self.ptr -= 1\n",
    "        return self.stk[self.ptr]\n",
    "    \n",
    "    def peek(self) -> Any:\n",
    "        \"\"\"스택에서 데이터를 피크\"\"\"\n",
    "        if self.is_empty():  \n",
    "            raise FixedStack.Empty\n",
    "        return self.stk[self.ptr - 1]\n",
    "    \n",
    "    def clear(self) -> None:\n",
    "        \"\"\"스택을 비움\"\"\"\n",
    "        self.ptr = 0  # 스택 포인터 값을 통해 빈 스택을 만들면 됨\n",
    "\n",
    "\n",
    "    def find(self, value: Any) -> Any:\n",
    "        \"\"\"스택에서 value를 찾아 인덱스를 반환(없으면 -1 반환)\"\"\"\n",
    "        for i in range(self.ptr - 1, -1, -1):  # 꼭대기(top) 부터 선형 검색\n",
    "            if self.stk[i] == value:\n",
    "                return i\n",
    "        return -1\n",
    "    \n",
    "    def count(self, value: Any) -> int:\n",
    "        \"\"\"스택에 있는 value의 개수를 반환\"\"\"\n",
    "        c = 0\n",
    "        for i in range(self.ptr):  # 바닥(bottom) 부터 선형 검색\n",
    "            if self.stk[i] == value:\n",
    "                c += 1\n",
    "        return c\n",
    "    \n",
    "    def __contains__(self, value: Any) -> bool:  # 파이썬 내장 연산자 in을 지원하기 위한 매직 메서드임\n",
    "        \"\"\"스택에 value가 있는지 판단\"\"\"\n",
    "        return self.count(value) > 0\n",
    "    \n",
    "    def dump(self) -> None:\n",
    "        \"\"\"덤프(스택 안의 모든 데이터를 바닥부터 꼭대기 순으로 출력)\"\"\"\n",
    "        if self.is_empty(): \n",
    "            print('스택이 비어 있습니다.')\n",
    "        else:\n",
    "            print(self.stk[:self.ptr])\n"
   ]
  },
  {
   "cell_type": "markdown",
   "id": "2e4d08ea",
   "metadata": {},
   "source": [
    "> 참고. 예외 처리의 기본 구조\n",
    "\n",
    "예외 처리란?\n",
    "- 파이썬에서 프로그램을 실행하다가 오류가 발생하면 예외 처리 메세지를 내보냄\n",
    "- try문(try statement)을 이용 : try-except-else-finally 또는 try-finally\n",
    "\n",
    "    ```python\n",
    "    try: 스위트  # 원래 처리\n",
    "    except: 스위트 (1개 이상)  # 예외 포착과 처리\n",
    "    else: 스위트 (생략 가능)  # 예외가 포착되지 않음\n",
    "    finally: 스위트 (생략 가능)   # 마무리\n",
    "    ```\n",
    "- raise문(raise statement)을 이용 : 표준 내장 예외 처리(파이썬이 제공하는 예외 처리: BaseException 클래스 혹은 직간접적으로 파생한 클래스로 제공), 사용자 정의 예외 처리(Exception 클래스 또는 그 파생 클래스로 제공)\n",
    "\n",
    "\n",
    "예외 처리의 장점\n",
    "- 예외 처리 수행 시, 오류를 복구하여 프로그램이 실행되다가 중단되는 것을 피할 수 있음\n",
    "- 원래 처리하는 코드와 오류가 발생할 때 대처하는 코드를 분리"
   ]
  },
  {
   "cell_type": "markdown",
   "id": "cdc9ef82",
   "metadata": {},
   "source": [
    "> 참고. __(dunder, double underscore) 가 붙은 함수\n",
    "\n",
    "함수명에 __(dunder, double underscore) 가 붙으면 파이썬 매직 메서드로 기능을 구현함을 의미\n",
    "\n",
    "- 파이썬의 매직 메서드(```__xx__```)란? \n",
    "    - 파이썬은 len(), for x in ..., x in obj 같은 편리한 문법을 제공하지만 이 기능들이 자동으로 동작하려면\n",
    "    매직 메서드(특수 메서드)가 클래스 내부에 정의되어 있어야 함\n",
    "    - 특히 리스트, 튜플, 딕셔너리 같은 파이썬 내장 자료형들은 이미 ```__len__, __iter__, __contains__, __getitem__``` 등의 매직 메서드를 내부적으로 구현해두었기 때문에 len(), in, for 등을 별도 정의 없이 사용 가능\n",
    "    - 위 메서드 들을 직접 구현하지 않으면 TypeError, AttributeError가 발생\n",
    "\n",
    "- 일반 메서드와 매직 메서드를 구분해 놓은 이유?\n",
    "    - 일반 메서드: push(), pop()처럼 사용자가 명시적으로 호출하는 기능\n",
    "    - 매직 메서드: 파이썬 문법이 자동으로 호출하는 숨겨진 기능\n",
    "        - 일반 메서드와 역할을 분리해서 코드 가독성 유지\n",
    "        - 파이썬 문법을 사용자 정의 객체에서도 자동으로 연결하여 동작시키게 하기 위함"
   ]
  },
  {
   "cell_type": "code",
   "execution_count": null,
   "id": "7668ca41",
   "metadata": {},
   "outputs": [
    {
     "ename": "TypeError",
     "evalue": "'MyBox' object is not iterable",
     "output_type": "error",
     "traceback": [
      "\u001b[1;31m---------------------------------------------------------------------------\u001b[0m",
      "\u001b[1;31mTypeError\u001b[0m                                 Traceback (most recent call last)",
      "Cell \u001b[1;32mIn[8], line 10\u001b[0m\n\u001b[0;32m      7\u001b[0m b \u001b[38;5;241m=\u001b[39m MyBox([\u001b[38;5;241m1\u001b[39m, \u001b[38;5;241m2\u001b[39m, \u001b[38;5;241m3\u001b[39m])\n\u001b[0;32m      8\u001b[0m \u001b[38;5;66;03m# print(len(b))          # TypeError: object of type 'MyBox' has no len()\u001b[39;00m\n\u001b[0;32m      9\u001b[0m \u001b[38;5;66;03m# print(3 in b)          # TypeError: argument of type 'MyBox' is not iterable\u001b[39;00m\n\u001b[1;32m---> 10\u001b[0m \u001b[38;5;28;01mfor\u001b[39;00m x \u001b[38;5;129;01min\u001b[39;00m b:           \u001b[38;5;66;03m# TypeError: 'MyBox' object is not iterable\u001b[39;00m\n\u001b[0;32m     11\u001b[0m     \u001b[38;5;28mprint\u001b[39m(x)\n",
      "\u001b[1;31mTypeError\u001b[0m: 'MyBox' object is not iterable"
     ]
    }
   ],
   "source": [
    "# 매직 메서드 구현 전\n",
    "\n",
    "class MyBox:\n",
    "    def __init__(self, items):\n",
    "        self.items = items\n",
    "\n",
    "b = MyBox([1, 2, 3])\n",
    "# print(len(b))          # TypeError: object of type 'MyBox' has no len()\n",
    "# print(3 in b)          # TypeError: argument of type 'MyBox' is not iterable\n",
    "for x in b:           # TypeError: 'MyBox' object is not iterable\n",
    "    print(x)"
   ]
  },
  {
   "cell_type": "code",
   "execution_count": 9,
   "id": "e21413dc",
   "metadata": {},
   "outputs": [
    {
     "name": "stdout",
     "output_type": "stream",
     "text": [
      "3\n",
      "True\n",
      "1\n",
      "2\n",
      "3\n"
     ]
    }
   ],
   "source": [
    "# 매직 메서드 구현 후\n",
    "\n",
    "class MyBox:\n",
    "    def __init__(self, items):\n",
    "        self.items = items\n",
    "\n",
    "    def __len__(self):\n",
    "        return len(self.items)\n",
    "\n",
    "    def __contains__(self, value):\n",
    "        return value in self.items\n",
    "\n",
    "    def __iter__(self):\n",
    "        return iter(self.items)\n",
    "    \n",
    "b = MyBox([1, 2, 3])\n",
    "print(len(b))        # 결과: 3\n",
    "print(2 in b)        # 결과: True\n",
    "for x in b:          # 반복 가능\n",
    "    print(x)\n"
   ]
  },
  {
   "cell_type": "markdown",
   "id": "d09c93e5",
   "metadata": {},
   "source": [
    "## 스택 프로그램 만들기"
   ]
  },
  {
   "cell_type": "markdown",
   "id": "adf60b6f",
   "metadata": {},
   "source": [
    "### 실습 4-2. 고정 길이 스택 클래스(FixedStack)를 사용하기"
   ]
  },
  {
   "cell_type": "code",
   "execution_count": null,
   "id": "e3ff52b9",
   "metadata": {},
   "outputs": [],
   "source": [
    "from enum import Enum\n",
    "from fixed_stack import FixedStack\n",
    "\n",
    "Menu = Enum('Menu', ['푸시', '팝', '피크', '검색', '덤프', '종료'])\n",
    "\n",
    "def select_menu() -> Menu:  # 이건 무슨 문법이지?\n",
    "    \"\"\"메뉴 선택\"\"\"\n",
    "    s = [f'({m.value}){m.name}' for m in Menu]  # f-string 문법에 대한 추가 설명? 작은 따옴표가 감싸는 범위?\n",
    "    while True:\n",
    "        print(*s, sep = '   ', end='')\n",
    "        n = int(input(': '))\n",
    "        if 1 <= n <= len(Menu):\n",
    "            return Menu(n)\n",
    "        \n",
    "s = FixedStack(64)  # 최대 64개를 푸시할 수 있는 스택\n",
    "\n",
    "while True:\n",
    "    print(f'현재 데이터 개수: {len(s)} / {s.capacity}')  # 수식이 왜 이렇게 되지? 둘다 같은 값 아닌가?\n",
    "    menu = select_menu()  # 메뉴 선택\n",
    "\n",
    "    if menu == Menu.푸시:\n",
    "        x = int(input('데이터를 입력하세요.: '))\n",
    "        try:\n",
    "            s.push(x)\n",
    "        except FixedStack.Full:\n",
    "            print('스택이 가득 차 있습니다.')\n",
    "\n",
    "    elif menu == Menu.검색:\n",
    "        x = int(input('검색할 값을 입력하세요.: '))\n",
    "        if x in s:\n",
    "            print(f'{s.count(x)}개 포함되고, 맨 앞의 위치는 {s.find(x)}입니다.')\n",
    "        else:\n",
    "            print('검색값을 찾을 수 없습니다.')\n",
    "\n",
    "    elif menu == Menu.덤프:  # 덤프\n",
    "        s.dump()\n",
    "\n",
    "    else:\n",
    "        break"
   ]
  }
 ],
 "metadata": {
  "kernelspec": {
   "display_name": "sesac",
   "language": "python",
   "name": "python3"
  },
  "language_info": {
   "codemirror_mode": {
    "name": "ipython",
    "version": 3
   },
   "file_extension": ".py",
   "mimetype": "text/x-python",
   "name": "python",
   "nbconvert_exporter": "python",
   "pygments_lexer": "ipython3",
   "version": "3.12.4"
  }
 },
 "nbformat": 4,
 "nbformat_minor": 5
}
