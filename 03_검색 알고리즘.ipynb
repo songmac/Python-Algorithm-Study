{
 "cells": [
  {
   "cell_type": "markdown",
   "metadata": {
    "id": "NdPCKd1-WXfW"
   },
   "source": [
    "# 03-1. 검색 알고리즘이란?\n",
    "\n",
    "데이터 집합에서 원하는 값을 가진 원소를 찾아내는 검색 알고리즘"
   ]
  },
  {
   "cell_type": "markdown",
   "metadata": {
    "id": "F5HRmj_yWql1"
   },
   "source": [
    "## 검색과 키\n",
    "- 키(key) : 데이터 내 검색 조건에서 어떠한 항목에 주목 하는 것 <br>\n",
    "    e.g.) 검색 조건 - 주목하는 항목 (국적 - 한국인, 나이 - 21세이상, 이름 - '민'자가 들어간 사람)\n",
    "- 조건에 대해 하나 혹은 논리곱, 논리합을 사용하여 복합해서 지정 가능"
   ]
  },
  {
   "cell_type": "markdown",
   "metadata": {
    "id": "qMMXLO_MWtCD"
   },
   "source": [
    "## 검색의 종류\n",
    "\n",
    "선택할 수 있는 알고리즘이 다양한 경우에는 용도, 목적, 실행 속도, 자료구조 등 여러 사항을 고려해서 선택해야 함\n",
    "\n",
    "- 자료구조 알고리즘 (ex. **배열 검색**, 연결 리스트 검색, 이진 검색 트리, 일부 문자열 검색)\n",
    "\n",
    "- 배열 검색\n",
    "  - 선형 검색 : 무작위로 늘어놓은 데이터 집합에서 검색 수행\n",
    "  - 이진 검색 : 일정한 규칙으로 늘어놓은 데이터 집합에서 아주 빠른 검색 수행\n",
    "  - 해시법 : 추가&삭제가 자주 일어나는 데이터 집합에서 아주 빠른 검색을 수행\n",
    "    - 체인법 : 같은 해시값 데이터를 연결 리스트로 연결하는 방법\n",
    "    - 오픈 주소법 : 데이터를 위한 해시값이 충돌할 때 재해시하는 방법   \n",
    "\n"
   ]
  },
  {
   "cell_type": "markdown",
   "metadata": {
    "id": "84bCoJ9kWd-d"
   },
   "source": [
    "# 03-2. 선형 검색"
   ]
  },
  {
   "cell_type": "markdown",
   "metadata": {
    "id": "Fs0QlkFgWuv_"
   },
   "source": [
    "## 선형 검색 (linear search)\n",
    "\n",
    "직선 모양(선형)으로 늘어선 배열에서 검색하는 경우에 원하는 키값을 가진 원소를 찾을 때까지 맨 앞부터 스캔하여 순서대로 검색하는 알고리즘\n",
    "\n",
    "- 가장 기본적인 알고리즘\n",
    "- **원소의 값이 정렬되지 않은 배열에서 검색할 때 사용하는 유일한 방법**\n",
    "- 선형 검색의 종료 조건\n",
    "    - 검색할 값을 찾지 못하고 배열의 맨 끝을 지나간 경우\n",
    "    - 검색할 값과 같은 원소를 찾는 경우"
   ]
  },
  {
   "cell_type": "markdown",
   "metadata": {},
   "source": [
    "### 실습 3-1. while 문으로 작성한 선형 검색 알고리즘"
   ]
  },
  {
   "cell_type": "code",
   "execution_count": 1,
   "metadata": {},
   "outputs": [
    {
     "name": "stdout",
     "output_type": "stream",
     "text": [
      "검색값은 x[3]에 있습니다.\n"
     ]
    }
   ],
   "source": [
    "from typing import Any, Sequence\n",
    "\n",
    "def seq_search(a: Sequence, key: Any) -> int:\n",
    "    # 함수 어노테이션(Function Annotation) : 파이썬 함수의 매개변수나 반환값에 대해 타입 정보를 명시하는 문법 (강제성 X, 코드 자체에 영향도 X)\n",
    "    # def 함수이름(매개변수: 타입) -> 반환타입:\n",
    "    # - Any : 제약이 없는 임의의 자료형을 의미\n",
    "    # - Sequence : 시퀀스 형을 의미 ex. 리스트(list)형, 바이트 배열(bytearray)형, 문자열(str)형, 튜플(tuple)형, 바이트열(bytes)형\n",
    "\n",
    "    \"\"\"시퀀스 a에서 key와 값이 같은 원소를 선형 검색(while문)\"\"\"\n",
    "\n",
    "    i = 0\n",
    "    while True:\n",
    "        if i == len(a):\n",
    "            return -1  # 검색에 실패한 경우, -1 반환\n",
    "        if a[i] == key:\n",
    "            return i  # 검색에 성공한 경우, 현재 배열의 인덱스 번호를 반환\n",
    "        i += 1\n",
    "\n",
    "if __name__ == '__main__':\n",
    "    # 배열 x의 원소 개수 설정\n",
    "    num = int(input('원소 수를 입력하세요. : '))\n",
    "    x = [None] * num\n",
    "\n",
    "    # 배열 x에 값 생성\n",
    "    for i in range(num):\n",
    "        x[i] = int(input(f'x[{i}]: '))\n",
    "\n",
    "    # 검색할 key 값 입력\n",
    "    ky = int(input('검색할 값을 입력하세요.: ')) \n",
    "\n",
    "    # 검색된 key 값에 해당하는 원소의 인덱스 번호 출력\n",
    "    idx = seq_search(x, ky)\n",
    "    if idx == -1:\n",
    "        print('검색값을 갖는 원소가 존재하지 않습니다.')\n",
    "    else:\n",
    "        print(f'검색값은 x[{idx}]에 있습니다.')\n",
    "    "
   ]
  },
  {
   "cell_type": "markdown",
   "metadata": {},
   "source": [
    "### 실습 3-2. for 문으로 작성한 선형 검색 알고리즘\n"
   ]
  },
  {
   "cell_type": "code",
   "execution_count": null,
   "metadata": {},
   "outputs": [],
   "source": [
    "from typing import Any, Sequence\n",
    "\n",
    "def seq_search(a: Sequence, key: Any) -> int:\n",
    "    \"\"\"시퀀스 a에서 key와 값이 같은 원소를 선형 검색(for 문)\"\"\"\n",
    "    for i in range(len(a)):\n",
    "        if a[i] == key:\n",
    "            return i \n",
    "    return -1 # 검색 실패 시, -1 반환\n",
    "\n",
    "\n",
    "# 아래 코드는 실습 3-1와 동일\n",
    "if __name__ == '__main__':\n",
    "    num = int(input('원소 수를 입력하세요. : '))\n",
    "    x = [None] * num\n",
    "\n",
    "    for i in range(num):\n",
    "        x[i] = int(input(f'x[{i}]: '))\n",
    "\n",
    "    ky = int(input('검색할 값을 입력하세요.: ')) \n",
    "    \n",
    "    idx = seq_search(x, ky)\n",
    "    if idx == -1:\n",
    "        print('검색값을 갖는 원소가 존재하지 않습니다.')\n",
    "    else:\n",
    "        print(f'검색값은 x[{idx}]에 있습니다.')\n"
   ]
  },
  {
   "cell_type": "markdown",
   "metadata": {},
   "source": [
    "### 실습 3C-1. seq_search() 함수를 사용하여 실수 검색하기"
   ]
  },
  {
   "cell_type": "code",
   "execution_count": null,
   "metadata": {},
   "outputs": [
    {
     "name": "stdout",
     "output_type": "stream",
     "text": [
      "실수를 검색합니다.\n",
      "주의: \"End\"를 입력하면 종료합니다.\n",
      "검색값은 x[2]에 있습니다.\n"
     ]
    }
   ],
   "source": [
    "from ssearch_while import seq_search\n",
    "\n",
    "print('실수를 검색합니다.')\n",
    "print('주의: \"End\"를 입력하면 종료합니다.')\n",
    "\n",
    "number = 0\n",
    "x = []\n",
    "\n",
    "while True:\n",
    "    s = input(f'x[{number}]: ')\n",
    "    # s = float(input(f'x[{number}]: '))  # 이렇게 입력 받으면 input 값으로 End(문자열)를 받아들이지 못함\n",
    "\n",
    "    if s == 'End':\n",
    "        break\n",
    "    x.append(float(s))\n",
    "    number += 1\n",
    "\n",
    "ky = float(input('검색할 값을 입력하세요.: '))\n",
    "\n",
    "idx = seq_search(x, ky)\n",
    "if idx == -1:\n",
    "    print('검색값을 갖는 원소가 존재하지 않습니다.')\n",
    "else:\n",
    "    print(f'검색값은 x[{idx}]에 있습니다.')"
   ]
  },
  {
   "cell_type": "markdown",
   "metadata": {},
   "source": [
    "### 실습 3C-2. seq_search() 함수를 사용하여 특정 인덱스 검색하기"
   ]
  },
  {
   "cell_type": "code",
   "execution_count": 5,
   "metadata": {},
   "outputs": [
    {
     "name": "stdout",
     "output_type": "stream",
     "text": [
      "(4, 7, 5.6, 2, 3.14, 1)에서 5.6 의 인덱스는 2 입니다.\n",
      "string에서 \"n\"의 인덱스는 4 입니다.\n",
      "['DTS', 'AAC', 'FLAC']에서 \"DTS\"의 인덱스는 0 입니다.\n"
     ]
    }
   ],
   "source": [
    "from ssearch_while import seq_search\n",
    "t = (4, 7, 5.6, 2, 3.14, 1)\n",
    "s = 'string'\n",
    "a = ['DTS', 'AAC', 'FLAC']\n",
    "\n",
    "print(f'{t}에서 5.6 의 인덱스는 {seq_search(t, 5.6)} 입니다.')\n",
    "print(f'{s}에서 \"n\"의 인덱스는 {seq_search(s, \"n\")} 입니다.')\n",
    "print(f'{a}에서 \"DTS\"의 인덱스는 {seq_search(a, \"DTS\")} 입니다.')\n"
   ]
  },
  {
   "cell_type": "markdown",
   "metadata": {
    "id": "b7GaTebfWw-b"
   },
   "source": [
    "## 보초법 (sentinel method)\n",
    "\n",
    "선형 검색에서 종료조건(검색 성공 혹은 맨 끝까지 검사)을 검사하는 비용을 반으로 줄이는 방법\n",
    "- 검색하고자하는 키 값을 배열의 맨 끝에 추가 (마치 보초가 서 있는 것 처럼)\n",
    "- 이렇게 하면 검색할 값과 같은 원소를 발견해야 하므로 맨 끝에 도달했는지 판단은 필요하지 않음"
   ]
  },
  {
   "cell_type": "markdown",
   "metadata": {},
   "source": [
    "### 실습 3-3. 선형 검색 알고리즘(실습 3-1)을 보초법으로 수정"
   ]
  },
  {
   "cell_type": "code",
   "execution_count": null,
   "metadata": {},
   "outputs": [
    {
     "name": "stdout",
     "output_type": "stream",
     "text": [
      "검색값은 x[3]에 있습니다.\n"
     ]
    }
   ],
   "source": [
    "from typing import Any, Sequence\n",
    "import copy\n",
    "\n",
    "def seq_search(seq: Sequence, key: Any) -> int:\n",
    "    \"\"\"시퀀스 seq에서 key와 일치하는 원소를 선형 검색(보초법)\"\"\"\n",
    "    a = copy.deepcopy(seq)  # seq 복사\n",
    "    a.append(key)  # 보초 키 추가\n",
    "\n",
    "    i = 0\n",
    "    while True:\n",
    "        # key가 나올 때까지 검색\n",
    "        if a[i] == key:\n",
    "            break\n",
    "        i += 1\n",
    "    # 검색 종료 후 결과 인덱스 반환\n",
    "    return -1 if i == len(seq) else i  # 형식: 조건부 표현식(conditional expression) 또는 한 줄 조건문 또는 삼항 연산자라 부름\n",
    "\n",
    "if __name__=='__main__':\n",
    "    num = int(input('원소 수를 입력하세요.: '))\n",
    "    x = [None] * num  # 크기가 num인 초기화된 리스트 생성 (크기 고정 시에 주로 사용)\n",
    "    # x = []  # 초기화된 리스트 생성 (크기가 변할 때 주로 사용)\n",
    "\n",
    "\n",
    "    for i in range(num):\n",
    "        x[i] = int(input(f'x[{i}]: '))  \n",
    "        # n = int(input(f'x[{i}]: ')) \n",
    "        # x.append(n)\n",
    "\n",
    "    ky = int(input('검색할 값을 입력하세요.: '))\n",
    "\n",
    "    idx = seq_search(x, ky)\n",
    "\n",
    "    if idx == -1:\n",
    "        print('검색값을 갖는 원소가 존재하지 않습니다.')\n",
    "    else:\n",
    "        print(f'검색값은 x[{idx}]에 있습니다.')"
   ]
  },
  {
   "cell_type": "markdown",
   "metadata": {
    "id": "IPvVGRf_WhhF"
   },
   "source": [
    "# 03-3. 이진 검색"
   ]
  },
  {
   "cell_type": "markdown",
   "metadata": {
    "id": "b0hcsrPPW1QC"
   },
   "source": [
    "## 이진 검색 (binary search)\n",
    "\n",
    "배열의 데이터가 정렬(오름차순/내림차순)되어 있어야 하며, 선형검색보다 빠르게 검색할 수 있는 장점이 있음 <br>\n",
    "\n",
    "- 이진 검색의 특징\n",
    "  - 주목할 원소를 다음 번 검색 범위의 중간 지점으로 이동\n",
    "  - 중간 지점을 계산할 때에는 나눗셈 후 소수점 이하를 버림 e.g.) (6 + 7) // 2 = 6\n",
    "  - 반복할 때마다 검색 범위가 거의 절반으로 줄어들으므로 검색하는데 필요한 비교 횟수는 평균 lon2 n번임 (실제론 lon2 n+1 정도로 계산되며, 시간복잡도는 O(log n))\n",
    "\n",
    "- 이진 검색 방법\n",
    "  - 검색 범위의 위치는 대체로 다음과 같이 부름. 왼쪽 포인터(pl : 0), 오른쪽 포인터(pr : n-1), 중앙 포인터(pc : (n-1)//2)\n",
    "    - pl(pointer to the left), pr(pointer to the right), pc(pointer to the center)\n",
    "  - 검색 범위를 좁히는 과정은 중앙 값(pc)이 key보다 작거나(a[pc] < key), 중앙값이 key보다 큰 경우(a[pc] > key)로 나뉨\n",
    "  -  검색 범위를 좁힌 뒤, 이진 검색의 종료 조건은 다음 두가지임\n",
    "      - a[pc] 와 key가 일치하는 경우 -> 검색 성공\n",
    "      - 검색 범위가 더 이상 없는 경우 -> 검색 실패"
   ]
  },
  {
   "cell_type": "markdown",
   "metadata": {},
   "source": [
    "### 실습 3-4. 이진 검색 알고리즘"
   ]
  },
  {
   "cell_type": "code",
   "execution_count": 18,
   "metadata": {},
   "outputs": [
    {
     "name": "stdout",
     "output_type": "stream",
     "text": [
      "배열 데이터를 오름차순으로 입력하세요.\n",
      "검색값은 x[2]에 있습니다.\n"
     ]
    }
   ],
   "source": [
    "from typing import Any, Sequence\n",
    "\n",
    "def bin_search(a: Sequence, key: Any) -> int:\n",
    "    \"\"\"시퀀스 a에서 key와 일치하는 원소를 이진 검색\"\"\"\n",
    "    pl = 0  \n",
    "    pr = len(a) - 1\n",
    "\n",
    "    while True:\n",
    "        pc = (pl + pr) // 2  # 중앙 원소의 인덱스\n",
    "        if a[pc] == key:  # 중앙값 == 키 값 # pl == pr 일 경우 포함\n",
    "            return pc \n",
    "        elif a[pc] < key:  # 중앙값 < 키 값 -> 왼쪽 포인터 +1 만큼 이동\n",
    "            pl = pc + 1\n",
    "        else:  # 키 값 < 중앙값 -> 오른쪽 포인터 -1 만큼 이동\n",
    "            pr = pc - 1\n",
    "        if pl > pr:  #  검색 범위가 아예 없는 경우를 말함\n",
    "            break\n",
    "    return -1  # 검색 실패\n",
    "\n",
    "if __name__ == '__main__':\n",
    "    num = int(input('원소 수를 입력하세요.: '))\n",
    "    x = [None] * num\n",
    "\n",
    "    print('배열 데이터를 오름차순으로 입력하세요.')\n",
    "\n",
    "    x[0] = int(input('x[0]: '))\n",
    "\n",
    "    for i in range(1, num):\n",
    "        while True:  # 각 i 에 대해 유효한 값이 들어올 때 까지 반복\n",
    "            x[i] = int(input(f'x[{i}]: '))  #바로 직전에 입력한 원솟값보다 큰 값을 입력\n",
    "            if x[i] >= x[i-1]:  # 오름차순 입력이 아닌 것을 거르기 위함\n",
    "                break\n",
    "    ky = int(input('검색할 값을 입력하세요.: ')) \n",
    "\n",
    "    idx = bin_search(x, ky)\n",
    "\n",
    "    if idx == -1:\n",
    "        print(f'검색값은 x[{idx}]에 있습니다.')\n",
    "    else:\n",
    "        print(f'검색값은 x[{idx}]에 있습니다.')"
   ]
  },
  {
   "cell_type": "code",
   "execution_count": null,
   "metadata": {
    "id": "ynGp0YvWx3zY"
   },
   "outputs": [
    {
     "name": "stdout",
     "output_type": "stream",
     "text": [
      "배열 데이터를 오름차순으로 입력하세요.\n",
      "검색값은 x[2]에 있습니다.\n"
     ]
    }
   ],
   "source": [
    "# 개선한 코드 \n",
    "\n",
    "from typing import Any, Sequence\n",
    "\n",
    "def bin_search(a: Sequence, key: Any) -> int:\n",
    "    \"\"\"시퀀스 a에서 key와 일치하는 원소를 이진 검색\"\"\"\n",
    "    pl = 0           \n",
    "    pr = len(a) - 1 \n",
    "\n",
    "    while True:\n",
    "        pc = (pl + pr) // 2  \n",
    "        if a[pc] == key:\n",
    "            return pc  \n",
    "        elif a[pc] < key:\n",
    "            pl = pc + 1  \n",
    "        else:\n",
    "            pr = pc - 1\n",
    "        if pl > pr: \n",
    "            break\n",
    "    return -1            \n",
    "\n",
    "# index 0 ~ num-1 까지 반복하도록 위의 코드를 수정\n",
    "if __name__ == '__main__':\n",
    "    num = int(input('원소 수를 입력하세요.: '))\n",
    "    x = [0] * num  # 원소 수가 num이고 0으로 채워진 배열을 생성\n",
    "\n",
    "    print('배열 데이터를 오름차순으로 입력하세요.')\n",
    "\n",
    "    for i in range(num):  \n",
    "        while True:  # 각 i 에 대해 유효한 값이 들어올 때 까지 반복\n",
    "            x[i] = int(input(f'x[{i}]: '))\n",
    "            if i == 0 or x[i] >= x[i - 1]:  \n",
    "                 break\n",
    "\n",
    "    ky = int(input('검색할 값을 입력하세요.: '))  \n",
    "\n",
    "    idx = bin_search(x, ky)\n",
    "\n",
    "    if idx < 0:\n",
    "        print('검색값을 갖는 원소가 존재하지 않습니다.')\n",
    "    else:\n",
    "        print(f'검색값은 x[{idx}]에 있습니다.')"
   ]
  },
  {
   "cell_type": "markdown",
   "metadata": {},
   "source": [
    "### 실습 3C-3. 이진 검색 알고리즘의 실행 과정을 출력 "
   ]
  },
  {
   "cell_type": "code",
   "execution_count": null,
   "metadata": {},
   "outputs": [
    {
     "name": "stdout",
     "output_type": "stream",
     "text": [
      "배열 데이터를 오름차순으로 입력하세요.\n",
      "  |   0   1   2   3   4   5   6   7   8   9  10\n",
      "---+----------------------------------------------\n",
      "  | <-                    +                  ->\n",
      "  5|   1   2   3   4   5   6   7   8   9  10  11\n",
      "  |\n",
      "  |                         <-        +      ->\n",
      "  8|   1   2   3   4   5   6   7   8   9  10  11\n",
      "  |\n",
      "  |                         <-  ->\n",
      "  6|   1   2   3   4   5   6   7   8   9  10  11\n",
      "  |\n",
      "  |                             <-->\n",
      "  7|   1   2   3   4   5   6   7   8   9  10  11\n",
      "  |\n",
      "검색값은 x[7]에 있습니다.\n"
     ]
    }
   ],
   "source": [
    "# 블랙박스와 같은 이진 검색 과정을 어떤 방식으로 좁혀나가는 지 확인\n",
    "\n",
    "from typing import Any, Sequence\n",
    "\n",
    "def bin_search(a: Sequence, key: Any) -> int:\n",
    "    \"\"\"시퀀스 a에서 key와 일치하는 원소를 이진 검색(실행 과정을 출력)\"\"\"\n",
    "    pl = 0  \n",
    "    pr = len(a) - 1\n",
    "\n",
    "    # --------------------- 가시화 1 시작 ----------------------\n",
    "    print('  |', end='')\n",
    "    for i in range(len(a)):\n",
    "        print(f'{i : 4}', end='')\n",
    "    print()\n",
    "    print('---+' + (4 * len(a) + 2) * '-')\n",
    "    # --------------------- 가시화 1 끝 ----------------------\n",
    "\n",
    "\n",
    "    while True:\n",
    "        pc = (pl + pr) // 2  # 중앙 원소의 인덱스\n",
    "\n",
    "        # --------------------- 가시화 2 시작 ----------------------\n",
    "        print('  |', end='')\n",
    "        if pl != pc:\n",
    "            print((pl * 4 + 1) * ' ' + '<-' + ((pc - pl) * 4) * ' ' + '+', end='')\n",
    "        else:\n",
    "            print((pc * 4 + 1) * ' ' + '<-', end='')\n",
    "        if pc != pr:\n",
    "            print(((pr-pc) * 4 - 2) * ' ' + '->')\n",
    "        else:\n",
    "            print('->')\n",
    "        print(f'{pc : 3}|', end='')\n",
    "        for i in range(len(a)):\n",
    "            print(f'{a[i] : 4}', end='')\n",
    "        print('\\n  |')\n",
    "        # --------------------- 가시화 2 끝 ----------------------\n",
    "\n",
    "\n",
    "\n",
    "        if a[pc] == key:  # 중앙값 == 키 값 # pl == pr 일 경우 포함\n",
    "            return pc \n",
    "        elif a[pc] < key:  # 중앙값 < 키 값 -> 왼쪽 포인터 +1 만큼 이동\n",
    "            pl = pc + 1\n",
    "        else:  # 키 값 < 중앙값 -> 오른쪽 포인터 -1 만큼 이동\n",
    "            pr = pc - 1\n",
    "        if pl > pr:  #  검색 범위가 아예 없는 경우를 말함\n",
    "            break\n",
    "    return -1  # 검색 실패\n",
    "\n",
    "if __name__ == '__main__':\n",
    "    num = int(input('원소 수를 입력하세요.: '))\n",
    "    x = [None] * num\n",
    "\n",
    "    print('배열 데이터를 오름차순으로 입력하세요.')\n",
    "\n",
    "    x[0] = int(input('x[0]: '))\n",
    "\n",
    "    for i in range(1, num):\n",
    "        while True:  # 각 i 에 대해 유효한 값이 들어올 때 까지 반복\n",
    "            x[i] = int(input(f'x[{i}]: '))  #바로 직전에 입력한 원솟값보다 큰 값을 입력\n",
    "            if x[i] >= x[i-1]:  # 오름차순 입력이 아닌 것을 거르기 위함\n",
    "                break\n",
    "    ky = int(input('검색할 값을 입력하세요.: ')) \n",
    "\n",
    "    idx = bin_search(x, ky)\n",
    "\n",
    "    if idx == -1:\n",
    "        print(f'검색값은 x[{idx}]에 있습니다.')\n",
    "    else:\n",
    "        print(f'검색값은 x[{idx}]에 있습니다.')\n",
    "    "
   ]
  },
  {
   "cell_type": "markdown",
   "metadata": {},
   "source": [
    "> 참고. index() 함수로 검색하기\n",
    "\n",
    "리스트 또는 튜플에서 검색은 각 클래스의 index() 함수로 수행 가능\n",
    "- index 함수? 시퀀스(리스트, 튜플 문자열 등)에서 값 x가 처음 나타나는 위치(인덱스)를 반환\n",
    "- 형식 : obj.index(x, i, j) (정확하게는 obj.index(x[, start[, end]]) 이지만 대괄호 생략 가능!)\n",
    "    - obj[i : j] 처럼 슬라이싱 범위와 동일하게 적용\n",
    "    - x : 찾고자 하는 값 \n",
    "    - 전체 범위를 스캔할 경우 i, j 는 생략 가능"
   ]
  },
  {
   "cell_type": "code",
   "execution_count": 26,
   "metadata": {},
   "outputs": [
    {
     "name": "stdout",
     "output_type": "stream",
     "text": [
      "1\n",
      "1\n"
     ]
    }
   ],
   "source": [
    "obj = [1, 2, 5, 4, 2, 10]\n",
    "print(obj.index(2))\n",
    "print(obj.index(2, 1, 3))\n",
    "# print(obj.index(2, 3, 5))  # ValueError : 3 is not in list\n",
    "# print(obj.index(3))  # ValueError : 3 is not in list"
   ]
  },
  {
   "cell_type": "markdown",
   "metadata": {
    "id": "-6TBV-IbW3Ar"
   },
   "source": [
    "## 복잡도 (Complexity)\n",
    "\n",
    "알고리즘의 성능을 객관적으로 평가하는 기준으로, 프로그램을 실행하는 데 필요한 시간은 프로그램이 동작하는 하드웨어나 컴파일러 등의 조건에 따라 달라짐 <br>\n",
    "\n",
    "복잡도는 O(n)로 표기하고 n의 오더 또는 오더 n 라고 부름\n",
    "\n",
    "- 복잡도의 구분\n",
    "  - 시간 복잡도(time complexity) : 실행하는 데 필요한 시간을 평가\n",
    "  - 공간 복잡도(space complexity) : 메모리(기억 공간)와 파일 공간이 얼마나 필요한지를 평가\n",
    "\n",
    "\n",
    "- 복잡도의 중요성과 계산\n",
    "  - 알고리즘을 선택할 때는 위 두 복잡도(시간, 공간)의 균형이 필요함\n",
    "  - 두가지 이상의 계산으로 구성된 알고리즘의 전체 복잡도는 차원이 가장 높은 쪽의 복잡도 선택함\n",
    "  - 수가 클수록 알고리즘의 실행 시간이 길어지고 복잡도가 높아짐"
   ]
  },
  {
   "cell_type": "code",
   "execution_count": null,
   "metadata": {},
   "outputs": [],
   "source": [
    "# 복잡도 계산 예시\n",
    "\n",
    "# 1. 선형 검색의 시간 복잡도\n",
    "def seq_search(a: Sequence, key: Any) -> int:\n",
    "    i = 0  # (1) 실행 횟수 : 1, 복잡도 : O(1)\n",
    "\n",
    "    while i < n:  # (2) 실행 횟수 : n/2(n에 비례하는 횟수), 복잡도 : O(n)\n",
    "        if a[i] == key:  # (3) 실행 횟수 : n/2(선형 알고리즘), 복잡도 : O(n)\n",
    "            return i  # (4) 실행 횟수 : 1(함수에서 값을 반환), 복잡도 : O(1) \n",
    "        i += 1   # (5) 실행 횟수 : n/2(n에 비례하는 횟수), 복잡도 : O(n)\n",
    "\n",
    "    return -1  # (6) 실행 횟수 : 1, 복잡도 : O(1) \n",
    "\n",
    "# 종합적인 시간 복잡도 계산 결과 : O(n)\n",
    "\n",
    "\n",
    "# 2. 이진 검색의 시간 복잡도\n",
    "\n",
    "def bin_search(a: Sequence, key:Any) -> int:\n",
    "    pl = 0  # (1) 실행 횟수 : 1, 복잡도 : O(1)\n",
    "    pr = len(a) - 1  # (2) 실행 횟수 : 1, 복잡도 : O(1)\n",
    "\n",
    "    while True:\n",
    "        pc = (pl + pr) // 2  # (3) 실행 횟수 : log n, 복잡도 : O(log n)\n",
    "        if a[pc] == key:  # (4) 실행 횟수 : log n, 복잡도 : O(log n)\n",
    "            return pc  # (5) 실행 횟수 : 1, 복잡도 : O(1)\n",
    "        elif a[pc] < key:  # (6) 실행 횟수 : log n, 복잡도 : O(log n)\n",
    "            pl = pc + 1  # (7) 실행 횟수 : log n, 복잡도 : O(log n)\n",
    "        else:\n",
    "            pr = pc - 1  # (8) 실행 횟수 : log n, 복잡도 : O(log n)\n",
    "        if pl > pr:  # (9) 실행 횟수 : log n, 복잡도 : O(log n)\n",
    "            break\n",
    "    return -1  # (10) 실행 횟수 : 1, 복잡도 : O(1)\n",
    "\n",
    "# 종합적인 시간 복잡도 계산 결과 : O(log n)"
   ]
  },
  {
   "cell_type": "markdown",
   "metadata": {
    "id": "KoxLeiclWkp7"
   },
   "source": [
    "# 03-4. 해시법"
   ]
  },
  {
   "cell_type": "markdown",
   "metadata": {
    "id": "-S598f0ZW6F4"
   },
   "source": [
    "## 정렬된 배열에서 원소 추가하기"
   ]
  },
  {
   "cell_type": "markdown",
   "metadata": {
    "id": "cBxBEMqGW-Ky"
   },
   "source": [
    "## 해시법"
   ]
  },
  {
   "cell_type": "markdown",
   "metadata": {
    "id": "63UMsiwPW_qf"
   },
   "source": [
    "## 해시 충돌"
   ]
  },
  {
   "cell_type": "markdown",
   "metadata": {
    "id": "NWOT9_jiXBWB"
   },
   "source": [
    "## 체인법"
   ]
  },
  {
   "cell_type": "markdown",
   "metadata": {
    "id": "hZ_Cbni8XDNO"
   },
   "source": [
    "## 오픈 주소법"
   ]
  },
  {
   "cell_type": "code",
   "execution_count": null,
   "metadata": {
    "id": "C5BVy9rQUvzT"
   },
   "outputs": [],
   "source": []
  }
 ],
 "metadata": {
  "colab": {
   "authorship_tag": "ABX9TyOZtkn5yPW+TAXWmLtG2BYm",
   "provenance": []
  },
  "kernelspec": {
   "display_name": "sesac",
   "language": "python",
   "name": "python3"
  },
  "language_info": {
   "codemirror_mode": {
    "name": "ipython",
    "version": 3
   },
   "file_extension": ".py",
   "mimetype": "text/x-python",
   "name": "python",
   "nbconvert_exporter": "python",
   "pygments_lexer": "ipython3",
   "version": "3.12.4"
  }
 },
 "nbformat": 4,
 "nbformat_minor": 0
}
