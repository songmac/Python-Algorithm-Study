{
 "cells": [
  {
   "cell_type": "markdown",
   "metadata": {
    "id": "NdPCKd1-WXfW"
   },
   "source": [
    "# 03-1. 검색 알고리즘이란?\n",
    "\n",
    "데이터 집합에서 원하는 값을 가진 원소를 찾아내는 검색 알고리즘"
   ]
  },
  {
   "cell_type": "markdown",
   "metadata": {
    "id": "F5HRmj_yWql1"
   },
   "source": [
    "## 검색과 키\n",
    "- 키(key) : 데이터 내 검색 조건에서 어떠한 항목에 주목 하는 것 <br>\n",
    "    e.g.) 검색 조건 - 주목하는 항목 (국적 - 한국인, 나이 - 21세이상, 이름 - '민'자가 들어간 사람)\n",
    "- 조건에 대해 하나 혹은 논리곱, 논리합을 사용하여 복합해서 지정 가능"
   ]
  },
  {
   "cell_type": "markdown",
   "metadata": {
    "id": "qMMXLO_MWtCD"
   },
   "source": [
    "## 검색의 종류\n",
    "\n",
    "선택할 수 있는 알고리즘이 다양한 경우에는 용도, 목적, 실행 속도, 자료구조 등 여러 사항을 고려해서 선택해야 함\n",
    "\n",
    "- 자료구조 알고리즘 (ex. **배열 검색**, 연결 리스트 검색, 이진 검색 트리, 일부 문자열 검색)\n",
    "\n",
    "- 배열 검색\n",
    "  - 선형 검색 : 무작위로 늘어놓은 데이터 집합에서 검색 수행\n",
    "  - 이진 검색 : 일정한 규칙으로 늘어놓은 데이터 집합에서 아주 빠른 검색 수행\n",
    "  - 해시법 : 추가&삭제가 자주 일어나는 데이터 집합에서 아주 빠른 검색을 수행\n",
    "    - 체인법 : 같은 해시값 데이터를 연결 리스트로 연결하는 방법\n",
    "    - 오픈 주소법 : 데이터를 위한 해시값이 충돌할 때 재해시하는 방법   \n",
    "\n"
   ]
  },
  {
   "cell_type": "markdown",
   "metadata": {
    "id": "84bCoJ9kWd-d"
   },
   "source": [
    "# 03-2. 선형 검색"
   ]
  },
  {
   "cell_type": "markdown",
   "metadata": {
    "id": "Fs0QlkFgWuv_"
   },
   "source": [
    "## 선형 검색 (linear search)\n",
    "\n",
    "직선 모양(선형)으로 늘어선 배열에서 검색하는 경우에 원하는 키값을 가진 원소를 찾을 때까지 맨 앞부터 스캔하여 순서대로 검색하는 알고리즘\n",
    "\n",
    "- 가장 기본적인 알고리즘\n",
    "- **원소의 값이 정렬되지 않은 배열에서 검색할 때 사용하는 유일한 방법**\n",
    "- 선형 검색의 종료 조건\n",
    "    - 검색할 값을 찾지 못하고 배열의 맨 끝을 지나간 경우\n",
    "    - 검색할 값과 같은 원소를 찾는 경우"
   ]
  },
  {
   "cell_type": "markdown",
   "metadata": {},
   "source": [
    "### 실습 3-1. while 문으로 작성한 선형 검색 알고리즘"
   ]
  },
  {
   "cell_type": "code",
   "execution_count": 1,
   "metadata": {},
   "outputs": [
    {
     "name": "stdout",
     "output_type": "stream",
     "text": [
      "검색값은 x[3]에 있습니다.\n"
     ]
    }
   ],
   "source": [
    "from typing import Any, Sequence\n",
    "\n",
    "def seq_search(a: Sequence, key: Any) -> int:\n",
    "    # 함수 어노테이션(Function Annotation) : 파이썬 함수의 매개변수나 반환값에 대해 타입 정보를 명시하는 문법 (강제성 X, 코드 자체에 영향도 X)\n",
    "    # def 함수이름(매개변수: 타입) -> 반환타입:\n",
    "    # - Any : 제약이 없는 임의의 자료형을 의미\n",
    "    # - Sequence : 시퀀스 형을 의미 ex. 리스트(list)형, 바이트 배열(bytearray)형, 문자열(str)형, 튜플(tuple)형, 바이트열(bytes)형\n",
    "\n",
    "    \"\"\"시퀀스 a에서 key와 값이 같은 원소를 선형 검색(while문)\"\"\"\n",
    "\n",
    "    i = 0\n",
    "    while True:\n",
    "        if i == len(a):\n",
    "            return -1  # 검색에 실패한 경우, -1 반환\n",
    "        if a[i] == key:\n",
    "            return i  # 검색에 성공한 경우, 현재 배열의 인덱스 번호를 반환\n",
    "        i += 1\n",
    "\n",
    "if __name__ == '__main__':\n",
    "    # 배열 x의 원소 개수 설정\n",
    "    num = int(input('원소 수를 입력하세요. : '))\n",
    "    x = [None] * num\n",
    "\n",
    "    # 배열 x에 값 생성\n",
    "    for i in range(num):\n",
    "        x[i] = int(input(f'x[{i}]: '))\n",
    "\n",
    "    # 검색할 key 값 입력\n",
    "    ky = int(input('검색할 값을 입력하세요.: ')) \n",
    "\n",
    "    # 검색된 key 값에 해당하는 원소의 인덱스 번호 출력\n",
    "    idx = seq_search(x, ky)\n",
    "    if idx == -1:\n",
    "        print('검색값을 갖는 원소가 존재하지 않습니다.')\n",
    "    else:\n",
    "        print(f'검색값은 x[{idx}]에 있습니다.')\n",
    "    "
   ]
  },
  {
   "cell_type": "markdown",
   "metadata": {},
   "source": [
    "### 실습 3-2. for 문으로 작성한 선형 검색 알고리즘\n"
   ]
  },
  {
   "cell_type": "code",
   "execution_count": null,
   "metadata": {},
   "outputs": [],
   "source": [
    "from typing import Any, Sequence\n",
    "\n",
    "def seq_search(a: Sequence, key: Any) -> int:\n",
    "    \"\"\"시퀀스 a에서 key와 값이 같은 원소를 선형 검색(for 문)\"\"\"\n",
    "    for i in range(len(a)):\n",
    "        if a[i] == key:\n",
    "            return i \n",
    "    return -1 # 검색 실패 시, -1 반환\n",
    "\n",
    "\n",
    "# 아래 코드는 실습 3-1와 동일\n",
    "if __name__ == '__main__':\n",
    "    num = int(input('원소 수를 입력하세요. : '))\n",
    "    x = [None] * num\n",
    "\n",
    "    for i in range(num):\n",
    "        x[i] = int(input(f'x[{i}]: '))\n",
    "\n",
    "    ky = int(input('검색할 값을 입력하세요.: ')) \n",
    "    \n",
    "    idx = seq_search(x, ky)\n",
    "    if idx == -1:\n",
    "        print('검색값을 갖는 원소가 존재하지 않습니다.')\n",
    "    else:\n",
    "        print(f'검색값은 x[{idx}]에 있습니다.')\n"
   ]
  },
  {
   "cell_type": "markdown",
   "metadata": {},
   "source": [
    "### 실습 3C-1. seq_search() 함수를 사용하여 실수 검색하기"
   ]
  },
  {
   "cell_type": "code",
   "execution_count": 2,
   "metadata": {},
   "outputs": [
    {
     "name": "stdout",
     "output_type": "stream",
     "text": [
      "실수를 검색합니다.\n",
      "주의: \"End\"를 입력하면 종료합니다.\n",
      "검색값은 x[2]에 있습니다.\n"
     ]
    }
   ],
   "source": [
    "from ssearch_while import seq_search\n",
    "\n",
    "print('실수를 검색합니다.')\n",
    "print('주의: \"End\"를 입력하면 종료합니다.')\n",
    "\n",
    "number = 0\n",
    "x = []\n",
    "\n",
    "while True:\n",
    "    s = input(f'x[{number}]: ')\n",
    "    # s = float(input(f'x[{number}]: '))  # 이렇게 입력 받으면 input 값으로 End(문자열)를 받아들이지 못함\n",
    "\n",
    "    if s == 'End':\n",
    "        break\n",
    "    x.append(float(s))\n",
    "    number += 1\n",
    "\n",
    "ky = float(input('검색할 값을 입력하세요.: '))\n",
    "\n",
    "idx = seq_search(x, ky)\n",
    "if idx == -1:\n",
    "    print('검색값을 갖는 원소가 존재하지 않습니다.')\n",
    "else:\n",
    "    print(f'검색값은 x[{idx}]에 있습니다.')"
   ]
  },
  {
   "cell_type": "markdown",
   "metadata": {},
   "source": [
    "### 실습 3C-2. seq_search() 함수를 사용하여 특정 인덱스 검색하기"
   ]
  },
  {
   "cell_type": "code",
   "execution_count": 5,
   "metadata": {},
   "outputs": [
    {
     "name": "stdout",
     "output_type": "stream",
     "text": [
      "(4, 7, 5.6, 2, 3.14, 1)에서 5.6 의 인덱스는 2 입니다.\n",
      "string에서 \"n\"의 인덱스는 4 입니다.\n",
      "['DTS', 'AAC', 'FLAC']에서 \"DTS\"의 인덱스는 0 입니다.\n"
     ]
    }
   ],
   "source": [
    "from ssearch_while import seq_search\n",
    "t = (4, 7, 5.6, 2, 3.14, 1)\n",
    "s = 'string'\n",
    "a = ['DTS', 'AAC', 'FLAC']\n",
    "\n",
    "print(f'{t}에서 5.6 의 인덱스는 {seq_search(t, 5.6)} 입니다.')\n",
    "print(f'{s}에서 \"n\"의 인덱스는 {seq_search(s, \"n\")} 입니다.')\n",
    "print(f'{a}에서 \"DTS\"의 인덱스는 {seq_search(a, \"DTS\")} 입니다.')\n"
   ]
  },
  {
   "cell_type": "markdown",
   "metadata": {
    "id": "b7GaTebfWw-b"
   },
   "source": [
    "## 보초법 (sentinel method)\n",
    "\n",
    "선형 검색에서 종료조건(검색 성공 혹은 맨 끝까지 검사)을 검사하는 비용을 반으로 줄이는 방법\n",
    "- 검색하고자하는 키 값을 배열의 맨 끝에 추가 (마치 보초가 서 있는 것 처럼)\n",
    "- 이렇게 하면 검색할 값과 같은 원소를 발견해야 하므로 맨 끝에 도달했는지 판단은 필요하지 않음"
   ]
  },
  {
   "cell_type": "markdown",
   "metadata": {},
   "source": [
    "### 실습 3-3. 선형 검색 알고리즘(실습 3-1)을 보초법으로 수정"
   ]
  },
  {
   "cell_type": "code",
   "execution_count": 6,
   "metadata": {},
   "outputs": [
    {
     "name": "stdout",
     "output_type": "stream",
     "text": [
      "검색값은 x[3]에 있습니다.\n"
     ]
    }
   ],
   "source": [
    "from typing import Any, Sequence\n",
    "import copy\n",
    "\n",
    "def seq_search(seq: Sequence, key: Any) -> int:\n",
    "    \"\"\"시퀀스 seq에서 key와 일치하는 원소를 선형 검색(보초법)\"\"\"\n",
    "    a = copy.deepcopy(seq)  # seq 복사\n",
    "    a.append(key)  # 보초 키 추가\n",
    "\n",
    "    i = 0\n",
    "    while True:\n",
    "        # key가 나올 때까지 검색\n",
    "        if a[i] == key:\n",
    "            break\n",
    "        i += 1\n",
    "    # 검색 종료 후 결과 인덱스 반환\n",
    "    return -1 if i == len(seq) else i  # 형식: 조건부 표현식(conditional expression) 또는 한 줄 조건문 또는 삼항 연산자라 부름\n",
    "\n",
    "if __name__=='__main__':\n",
    "    num = int(input('원소 수를 입력하세요.: '))\n",
    "    x = [None] * num  # 크기가 num인 초기화된 리스트 생성 (크기 고정 시에 주로 사용)\n",
    "    # x = []  # 초기화된 리스트 생성 (크기가 변할 때 주로 사용)\n",
    "\n",
    "\n",
    "    for i in range(num):\n",
    "        x[i] = int(input(f'x[{i}]: '))  \n",
    "        # n = int(input(f'x[{i}]: ')) \n",
    "        # x.append(n)\n",
    "\n",
    "    ky = int(input('검색할 값을 입력하세요.: '))\n",
    "\n",
    "    idx = seq_search(x, ky)\n",
    "\n",
    "    if idx == -1:\n",
    "        print('검색값을 갖는 원소가 존재하지 않습니다.')\n",
    "    else:\n",
    "        print(f'검색값은 x[{idx}]에 있습니다.')"
   ]
  },
  {
   "cell_type": "markdown",
   "metadata": {
    "id": "IPvVGRf_WhhF"
   },
   "source": [
    "# 03-3. 이진 검색"
   ]
  },
  {
   "cell_type": "markdown",
   "metadata": {
    "id": "b0hcsrPPW1QC"
   },
   "source": [
    "## 이진 검색 (binary search)\n",
    "\n",
    "배열의 데이터가 정렬(오름차순/내림차순)되어 있어야 하며, 선형검색보다 빠르게 검색할 수 있는 장점이 있음 <br>\n",
    "\n",
    "- 이진 검색의 특징\n",
    "  - 주목할 원소를 다음 번 검색 범위의 중간 지점으로 이동\n",
    "  - 중간 지점을 계산할 때에는 나눗셈 후 소수점 이하를 버림 e.g.) (6 + 7) // 2 = 6\n",
    "  - 반복할 때마다 검색 범위가 거의 절반으로 줄어들으므로 검색하는데 필요한 비교 횟수는 평균 lon2 n번임 (실제론 lon2 n+1 정도로 계산되며, 시간복잡도는 O(log n))\n",
    "\n",
    "- 이진 검색 방법\n",
    "  - 검색 범위의 위치는 대체로 다음과 같이 부름. 왼쪽 포인터(pl : 0), 오른쪽 포인터(pr : n-1), 중앙 포인터(pc : (n-1)//2)\n",
    "    - pl(pointer to the left), pr(pointer to the right), pc(pointer to the center)\n",
    "  - 검색 범위를 좁히는 과정은 중앙 값(pc)이 key보다 작거나(a[pc] < key), 중앙값이 key보다 큰 경우(a[pc] > key)로 나뉨\n",
    "  -  검색 범위를 좁힌 뒤, 이진 검색의 종료 조건은 다음 두가지임\n",
    "      - a[pc] 와 key가 일치하는 경우 -> 검색 성공\n",
    "      - 검색 범위가 더 이상 없는 경우 -> 검색 실패"
   ]
  },
  {
   "cell_type": "markdown",
   "metadata": {},
   "source": [
    "### 실습 3-4. 이진 검색 알고리즘"
   ]
  },
  {
   "cell_type": "code",
   "execution_count": 18,
   "metadata": {},
   "outputs": [
    {
     "name": "stdout",
     "output_type": "stream",
     "text": [
      "배열 데이터를 오름차순으로 입력하세요.\n",
      "검색값은 x[2]에 있습니다.\n"
     ]
    }
   ],
   "source": [
    "from typing import Any, Sequence\n",
    "\n",
    "def bin_search(a: Sequence, key: Any) -> int:\n",
    "    \"\"\"시퀀스 a에서 key와 일치하는 원소를 이진 검색\"\"\"\n",
    "    pl = 0  \n",
    "    pr = len(a) - 1\n",
    "\n",
    "    while True:\n",
    "        pc = (pl + pr) // 2  # 중앙 원소의 인덱스\n",
    "        if a[pc] == key:  # 중앙값 == 키 값 # pl == pr 일 경우 포함\n",
    "            return pc \n",
    "        elif a[pc] < key:  # 중앙값 < 키 값 -> 왼쪽 포인터 +1 만큼 이동\n",
    "            pl = pc + 1\n",
    "        else:  # 키 값 < 중앙값 -> 오른쪽 포인터 -1 만큼 이동\n",
    "            pr = pc - 1\n",
    "        if pl > pr:  #  검색 범위가 아예 없는 경우를 말함\n",
    "            break\n",
    "    return -1  # 검색 실패\n",
    "\n",
    "if __name__ == '__main__':\n",
    "    num = int(input('원소 수를 입력하세요.: '))\n",
    "    x = [None] * num\n",
    "\n",
    "    print('배열 데이터를 오름차순으로 입력하세요.')\n",
    "\n",
    "    x[0] = int(input('x[0]: '))\n",
    "\n",
    "    for i in range(1, num):\n",
    "        while True:  # 각 i 에 대해 유효한 값이 들어올 때 까지 반복\n",
    "            x[i] = int(input(f'x[{i}]: '))  #바로 직전에 입력한 원솟값보다 큰 값을 입력\n",
    "            if x[i] >= x[i-1]:  # 오름차순 입력이 아닌 것을 거르기 위함\n",
    "                break\n",
    "    ky = int(input('검색할 값을 입력하세요.: ')) \n",
    "\n",
    "    idx = bin_search(x, ky)\n",
    "\n",
    "    if idx == -1:\n",
    "        print(f'검색값은 x[{idx}]에 있습니다.')\n",
    "    else:\n",
    "        print(f'검색값은 x[{idx}]에 있습니다.')"
   ]
  },
  {
   "cell_type": "code",
   "execution_count": 17,
   "metadata": {
    "id": "ynGp0YvWx3zY"
   },
   "outputs": [
    {
     "name": "stdout",
     "output_type": "stream",
     "text": [
      "배열 데이터를 오름차순으로 입력하세요.\n",
      "검색값은 x[2]에 있습니다.\n"
     ]
    }
   ],
   "source": [
    "# 개선한 코드 \n",
    "\n",
    "from typing import Any, Sequence\n",
    "\n",
    "def bin_search(a: Sequence, key: Any) -> int:\n",
    "    \"\"\"시퀀스 a에서 key와 일치하는 원소를 이진 검색\"\"\"\n",
    "    pl = 0           \n",
    "    pr = len(a) - 1 \n",
    "\n",
    "    while True:\n",
    "        pc = (pl + pr) // 2  \n",
    "        if a[pc] == key:\n",
    "            return pc  \n",
    "        elif a[pc] < key:\n",
    "            pl = pc + 1  \n",
    "        else:\n",
    "            pr = pc - 1\n",
    "        if pl > pr: \n",
    "            break\n",
    "    return -1            \n",
    "\n",
    "# index 0 ~ num-1 까지 반복하도록 위의 코드를 수정\n",
    "if __name__ == '__main__':\n",
    "    num = int(input('원소 수를 입력하세요.: '))\n",
    "    x = [0] * num  # 원소 수가 num이고 0으로 채워진 배열을 생성\n",
    "\n",
    "    print('배열 데이터를 오름차순으로 입력하세요.')\n",
    "\n",
    "    for i in range(num):  \n",
    "        while True:  # 각 i 에 대해 유효한 값이 들어올 때 까지 반복\n",
    "            x[i] = int(input(f'x[{i}]: '))\n",
    "            if i == 0 or x[i] >= x[i - 1]:  \n",
    "                 break\n",
    "\n",
    "    ky = int(input('검색할 값을 입력하세요.: '))  \n",
    "\n",
    "    idx = bin_search(x, ky)\n",
    "\n",
    "    if idx < 0:\n",
    "        print('검색값을 갖는 원소가 존재하지 않습니다.')\n",
    "    else:\n",
    "        print(f'검색값은 x[{idx}]에 있습니다.')"
   ]
  },
  {
   "cell_type": "markdown",
   "metadata": {},
   "source": [
    "### 실습 3C-3. 이진 검색 알고리즘의 실행 과정을 출력 "
   ]
  },
  {
   "cell_type": "code",
   "execution_count": 28,
   "metadata": {},
   "outputs": [
    {
     "name": "stdout",
     "output_type": "stream",
     "text": [
      "배열 데이터를 오름차순으로 입력하세요.\n",
      "  |   0   1   2   3   4   5   6   7   8   9  10\n",
      "---+----------------------------------------------\n",
      "  | <-                    +                  ->\n",
      "  5|   1   2   3   4   5   6   7   8   9  10  11\n",
      "  |\n",
      "  |                         <-        +      ->\n",
      "  8|   1   2   3   4   5   6   7   8   9  10  11\n",
      "  |\n",
      "  |                         <-  ->\n",
      "  6|   1   2   3   4   5   6   7   8   9  10  11\n",
      "  |\n",
      "  |                             <-->\n",
      "  7|   1   2   3   4   5   6   7   8   9  10  11\n",
      "  |\n",
      "검색값은 x[7]에 있습니다.\n"
     ]
    }
   ],
   "source": [
    "# 블랙박스와 같은 이진 검색 과정을 어떤 방식으로 좁혀나가는 지 확인\n",
    "\n",
    "from typing import Any, Sequence\n",
    "\n",
    "def bin_search(a: Sequence, key: Any) -> int:\n",
    "    \"\"\"시퀀스 a에서 key와 일치하는 원소를 이진 검색(실행 과정을 출력)\"\"\"\n",
    "    pl = 0  \n",
    "    pr = len(a) - 1\n",
    "\n",
    "    # --------------------- 가시화 1 시작 ----------------------\n",
    "    print('  |', end='')\n",
    "    for i in range(len(a)):\n",
    "        print(f'{i : 4}', end='')\n",
    "    print()\n",
    "    print('---+' + (4 * len(a) + 2) * '-')\n",
    "    # --------------------- 가시화 1 끝 ----------------------\n",
    "\n",
    "\n",
    "    while True:\n",
    "        pc = (pl + pr) // 2  # 중앙 원소의 인덱스\n",
    "\n",
    "        # --------------------- 가시화 2 시작 ----------------------\n",
    "        print('  |', end='')\n",
    "        if pl != pc:\n",
    "            print((pl * 4 + 1) * ' ' + '<-' + ((pc - pl) * 4) * ' ' + '+', end='')\n",
    "        else:\n",
    "            print((pc * 4 + 1) * ' ' + '<-', end='')\n",
    "        if pc != pr:\n",
    "            print(((pr-pc) * 4 - 2) * ' ' + '->')\n",
    "        else:\n",
    "            print('->')\n",
    "        print(f'{pc : 3}|', end='')\n",
    "        for i in range(len(a)):\n",
    "            print(f'{a[i] : 4}', end='')\n",
    "        print('\\n  |')\n",
    "        # --------------------- 가시화 2 끝 ----------------------\n",
    "\n",
    "\n",
    "\n",
    "        if a[pc] == key:  # 중앙값 == 키 값 # pl == pr 일 경우 포함\n",
    "            return pc \n",
    "        elif a[pc] < key:  # 중앙값 < 키 값 -> 왼쪽 포인터 +1 만큼 이동\n",
    "            pl = pc + 1\n",
    "        else:  # 키 값 < 중앙값 -> 오른쪽 포인터 -1 만큼 이동\n",
    "            pr = pc - 1\n",
    "        if pl > pr:  #  검색 범위가 아예 없는 경우를 말함\n",
    "            break\n",
    "    return -1  # 검색 실패\n",
    "\n",
    "if __name__ == '__main__':\n",
    "    num = int(input('원소 수를 입력하세요.: '))\n",
    "    x = [None] * num\n",
    "\n",
    "    print('배열 데이터를 오름차순으로 입력하세요.')\n",
    "\n",
    "    x[0] = int(input('x[0]: '))\n",
    "\n",
    "    for i in range(1, num):\n",
    "        while True:  # 각 i 에 대해 유효한 값이 들어올 때 까지 반복\n",
    "            x[i] = int(input(f'x[{i}]: '))  #바로 직전에 입력한 원솟값보다 큰 값을 입력\n",
    "            if x[i] >= x[i-1]:  # 오름차순 입력이 아닌 것을 거르기 위함\n",
    "                break\n",
    "    ky = int(input('검색할 값을 입력하세요.: ')) \n",
    "\n",
    "    idx = bin_search(x, ky)\n",
    "\n",
    "    if idx == -1:\n",
    "        print(f'검색값은 x[{idx}]에 있습니다.')\n",
    "    else:\n",
    "        print(f'검색값은 x[{idx}]에 있습니다.')\n",
    "    "
   ]
  },
  {
   "cell_type": "markdown",
   "metadata": {},
   "source": [
    "> 참고. index() 함수로 검색하기\n",
    "\n",
    "리스트 또는 튜플에서 검색은 각 클래스의 index() 함수로 수행 가능\n",
    "- index 함수? 시퀀스(리스트, 튜플 문자열 등)에서 값 x가 처음 나타나는 위치(인덱스)를 반환\n",
    "- 형식 : obj.index(x, i, j) (정확하게는 obj.index(x[, start[, end]]) 이지만 대괄호 생략 가능!)\n",
    "    - obj[i : j] 처럼 슬라이싱 범위와 동일하게 적용\n",
    "    - x : 찾고자 하는 값 \n",
    "    - 전체 범위를 스캔할 경우 i, j 는 생략 가능"
   ]
  },
  {
   "cell_type": "code",
   "execution_count": 26,
   "metadata": {},
   "outputs": [
    {
     "name": "stdout",
     "output_type": "stream",
     "text": [
      "1\n",
      "1\n"
     ]
    }
   ],
   "source": [
    "obj = [1, 2, 5, 4, 2, 10]\n",
    "print(obj.index(2))\n",
    "print(obj.index(2, 1, 3))\n",
    "# print(obj.index(2, 3, 5))  # ValueError : 3 is not in list\n",
    "# print(obj.index(3))  # ValueError : 3 is not in list"
   ]
  },
  {
   "cell_type": "markdown",
   "metadata": {
    "id": "-6TBV-IbW3Ar"
   },
   "source": [
    "## 복잡도 (Complexity)\n",
    "\n",
    "알고리즘의 성능을 객관적으로 평가하는 기준으로, 프로그램을 실행하는 데 필요한 시간은 프로그램이 동작하는 하드웨어나 컴파일러 등의 조건에 따라 달라짐 <br>\n",
    "\n",
    "복잡도는 O(n)로 표기하고 n의 오더 또는 오더 n 라고 부름\n",
    "\n",
    "- 복잡도의 구분\n",
    "  - 시간 복잡도(time complexity) : 실행하는 데 필요한 시간을 평가\n",
    "  - 공간 복잡도(space complexity) : 메모리(기억 공간)와 파일 공간이 얼마나 필요한지를 평가\n",
    "\n",
    "\n",
    "- 복잡도의 중요성과 계산\n",
    "  - 알고리즘을 선택할 때는 위 두 복잡도(시간, 공간)의 균형이 필요함\n",
    "  - 두가지 이상의 계산으로 구성된 알고리즘의 전체 복잡도는 차원이 가장 높은 쪽의 복잡도 선택함\n",
    "  - 수가 클수록 알고리즘의 실행 시간이 길어지고 복잡도가 높아짐"
   ]
  },
  {
   "cell_type": "code",
   "execution_count": null,
   "metadata": {},
   "outputs": [],
   "source": [
    "# 복잡도 계산 예시\n",
    "\n",
    "# 1. 선형 검색의 시간 복잡도\n",
    "def seq_search(a: Sequence, key: Any) -> int:\n",
    "    i = 0  # (1) 실행 횟수 : 1, 복잡도 : O(1)\n",
    "\n",
    "    while i < n:  # (2) 실행 횟수 : n/2(n에 비례하는 횟수), 복잡도 : O(n)\n",
    "        if a[i] == key:  # (3) 실행 횟수 : n/2(선형 알고리즘), 복잡도 : O(n)\n",
    "            return i  # (4) 실행 횟수 : 1(함수에서 값을 반환), 복잡도 : O(1) \n",
    "        i += 1   # (5) 실행 횟수 : n/2(n에 비례하는 횟수), 복잡도 : O(n)\n",
    "\n",
    "    return -1  # (6) 실행 횟수 : 1, 복잡도 : O(1) \n",
    "\n",
    "# 종합적인 시간 복잡도 계산 결과 : O(n)\n",
    "\n",
    "\n",
    "# 2. 이진 검색의 시간 복잡도\n",
    "\n",
    "def bin_search(a: Sequence, key:Any) -> int:\n",
    "    pl = 0  # (1) 실행 횟수 : 1, 복잡도 : O(1)\n",
    "    pr = len(a) - 1  # (2) 실행 횟수 : 1, 복잡도 : O(1)\n",
    "\n",
    "    while True:\n",
    "        pc = (pl + pr) // 2  # (3) 실행 횟수 : log n, 복잡도 : O(log n)\n",
    "        if a[pc] == key:  # (4) 실행 횟수 : log n, 복잡도 : O(log n)\n",
    "            return pc  # (5) 실행 횟수 : 1, 복잡도 : O(1)\n",
    "        elif a[pc] < key:  # (6) 실행 횟수 : log n, 복잡도 : O(log n)\n",
    "            pl = pc + 1  # (7) 실행 횟수 : log n, 복잡도 : O(log n)\n",
    "        else:\n",
    "            pr = pc - 1  # (8) 실행 횟수 : log n, 복잡도 : O(log n)\n",
    "        if pl > pr:  # (9) 실행 횟수 : log n, 복잡도 : O(log n)\n",
    "            break\n",
    "    return -1  # (10) 실행 횟수 : 1, 복잡도 : O(1)\n",
    "\n",
    "# 종합적인 시간 복잡도 계산 결과 : O(log n)"
   ]
  },
  {
   "cell_type": "markdown",
   "metadata": {
    "id": "KoxLeiclWkp7"
   },
   "source": [
    "# 03-4. 해시법\n",
    "\n",
    "배열 검색의 한 종류로, 검색과 더불어 데이터의 추가 및 삭제도 효율적으로 수행할 수 있음\n",
    "\n",
    "- 해시(hash) : 긁어모음, 뒤죽박죽, 가늘게 썬 고기 음식"
   ]
  },
  {
   "cell_type": "markdown",
   "metadata": {
    "id": "-S598f0ZW6F4"
   },
   "source": [
    "## 정렬된 배열에서 원소 추가하기\n",
    "\n",
    "오름차/내림차순 으로 정렬된 배열에 원소를 추가 또는 삭제하기 위해, 그 외의 원소들이 이동하는 데 필요한 복잡도는 O(n)이고 많은 비용이 발생"
   ]
  },
  {
   "cell_type": "markdown",
   "metadata": {
    "id": "cBxBEMqGW-Ky"
   },
   "source": [
    "## 해시법 (Hashing)\n",
    "\n",
    "'데이터를 저장할 위치 = 인덱스'를 간단한 연산으로 구하는 것. <br>\n",
    "원소의 검색 뿐 아니라 추가 및 삭제도 효율적으로 수행\n",
    "\n",
    "- 해시 함수(hash function) : 배열의 키를 각각 해시값(hash value)으로 나누어 변환하는 과정 (나머지를 구하는 연산 또는 그 연산을 응용할 때 사용되기도 함)\n",
    "    - 해시값? 임의의 길이를 가진 데이터를 해시 함수에 입력하여 얻은 값, 고정된 길이의 값을 의미 \n",
    "        - 큰 데이터도 짧은 고정 길이로 표현됨\n",
    "        - 해시 값 만으로 원본 데이터를 복원할 수 없음\n",
    "        - 데이터 무결성 검사, 디지털 서명, 비밀번호 저장, 블록체인 등에서 파일이나 트랙잭션 검증용 디지털 지문으로 사용됨\n",
    "\n",
    "- 해시 테이블(hash table) : 구한 해시값을 인덱스로 하여 원소를 새로 저장한 배열\n",
    "    - 이렇게 해시 테이블에서 만들어진 원소는 버킷(bucket)이라함\n",
    "    - 데이터가 하나도 없는 버킷의 값은 None 이라고 함"
   ]
  },
  {
   "cell_type": "markdown",
   "metadata": {
    "id": "63UMsiwPW_qf"
   },
   "source": [
    "## 해시 충돌(Hash Collision)\n",
    "\n",
    "키와 해시값의 대응 관계는 일반적으로 n:1(다대일)임. <br>\n",
    "그러나, 해시 테이블에 이미 값이 들어있는 경우 충돌이 일어날 수 있음\n",
    "\n",
    "- 해시 충돌 : 해시테이블에 저장할 버킷이 중복되는 현상\n",
    "    - 해시 충돌 대처법은 체인법, 오픈 주소법 총 두가지가 있음\n",
    "    - 해시 충돌을 피하려면 해시 함수가 해시 테이블 크기보다 작거나 같은 정수를 고르게 생성해야 하고, 이에 유리한 수는 소수(prime number)임\n",
    "        - 참고로, 해시 충돌이 발생한다면 해시 테이블을 충분히 크게 만들어 충돌 발생을 억제할 수는 있지만 메모리를 낭비하게 됨\n",
    "        - 또한 해시 충돌이 전혀 발생하지 않는다면 해시 함수로 인덱스를 찾는 것만으로 검색&추가&삭제가 대부분 완료됨 : 시간 복잡도는 O(1)\n"
   ]
  },
  {
   "cell_type": "markdown",
   "metadata": {
    "id": "NWOT9_jiXBWB"
   },
   "source": [
    "## 체인법(Chaning) / 오픈 해시법(Open Hashing)\n",
    "\n",
    "해시값이 같은 데이터를 체인(chain) 모양의 <b>연결 리스트</b>로 연결하는 방법\n",
    "- 배열의 각 버킷에 저장하는 것은 인덱스를 해시값으로 하는 연결 리스트의 앞쪽 노드(head)를 참조하는 것"
   ]
  },
  {
   "cell_type": "markdown",
   "metadata": {},
   "source": [
    "### 실습 3-5[A~D]. 체인법으로 해시 함수 구현하기"
   ]
  },
  {
   "cell_type": "code",
   "execution_count": null,
   "metadata": {},
   "outputs": [
    {
     "name": "stdout",
     "output_type": "stream",
     "text": [
      "Writing chained_hash.py\n"
     ]
    }
   ],
   "source": [
    "%%writefile chained_hash.py\n",
    "\n",
    "from __future__ import annotations  # 함수 및 클래스 정의에서 사용하는 타입힌트(Annotations)를 지연 평가함 \n",
    "                                    # e.g.) 아래의 next: Node 가 문자열로 평가되도록 지연되어서 오류가 발생하지 않도록 함\n",
    "from typing import Any, Type\n",
    "import hashlib\n",
    "\n",
    "class Node:\n",
    "    \"\"\"해시를 구성하는 노드\"\"\" # 키-값 이 짝을 이루는 구조\n",
    "\n",
    "    def __init__(self, key: Any, value: Any, next: Node) -> None:\n",
    "        \"\"\"초기화\"\"\"\n",
    "        self.key = key  # 키 (임의의 자료형)  \n",
    "        self.value = value  # 값 (임의의 자료형)\n",
    "        self.next = next  # 뒤쪽 노드를 참고 (Node형)\n",
    "\n",
    "\n",
    "\n",
    "class ChainedHash:\n",
    "    \"\"\"체인법으로 해시 클래스 구현\"\"\"\n",
    "    def __init__(self, capacity: int) -> None:\n",
    "        \"\"\"초기화\"\"\"\n",
    "        self.capacity = capacity  # 해시 테이블 크기 지정\n",
    "        self.table = [None] * self.capacity  # 해시 테이블(리스트)에 모든 버킷이 비어있는 상태\n",
    "\n",
    "\n",
    "    def hash_value(self, key:Any) -> int:\n",
    "        \"\"\"해시값을 구함\"\"\"\n",
    "        if isinstance(key, int):\n",
    "            return key % self.capacity\n",
    "        return (int(hashlib.sha256(str(key).encode()).hexdigest(), 16) % self.capacity)  # 해시 값은 다이제스트(digest)값이라고도 함\n",
    "            # 코드 설명 \n",
    "            # - key가 int형인 경우와 int형이 아닌 경우(문자열, 리스트, 클래스형 등)를 모두 충족하기 위해 표준 라이브러리로 형 변환 진행\n",
    "            # - sha256알고리즘 : RSA의 FIPS 알고리즘을 바탕으로 하고, 주어진 바이트 문자열의 해시값을 구하는 해시 알고리즘의 생성자(constructor)임\n",
    "            # - encode() 함수 : hashlib.sha256에 인수를 전달하기 위해 encode 함수로 바이트 문자열을 생성\n",
    "            # - hexdigest() 함수 : 해시값을 16진수 문자열로 꺼냄\n",
    "            # - int 함수 : 16진수 문자열을 int 형으로 변환\n",
    "\n",
    "\n",
    "    def search(self, key: Any) -> Any:\n",
    "        \"\"\"키가 key인 원소를 검색하여 값을 반환\"\"\"\n",
    "        hash = self.hash_value(key)  # 검색하는 키의 해시값\n",
    "        p = self.table[hash]  # 노드를 주목\n",
    "\n",
    "        while p is not None:\n",
    "            if p.key == key:\n",
    "                return p.value  # 검색 성공\n",
    "            p = p.next\n",
    "        \n",
    "        return None  # 검색 실패\n",
    "    \n",
    "\n",
    "    def add(self, key: Any, value: Any) -> bool:\n",
    "        \"\"\"키가 key이고 값이 value인 원소를 추가\"\"\"\n",
    "        hash = self.hash_value(key)  ## 추가하는 key의 해시값\n",
    "        p = self.table[hash]  # 노드를 주목\n",
    "\n",
    "        while p is not None:\n",
    "            if p.key == key:\n",
    "                return False  # 추가 실패\n",
    "            p = p.next  # 뒤쪽 노드 주목\n",
    "\n",
    "        temp = Node(key, value, self.table[hash])\n",
    "        self.table[hash] = temp  # 노드를 추가\n",
    "        return True  # 추가 성공\n",
    "\n",
    "\n",
    "    def remove(self, key: Any) -> bool:\n",
    "        \"\"\"키가 key인 원소를 삭제\"\"\"\n",
    "        hash = self.hash_value(key)  # 삭제할 key의 해시값\n",
    "        p = self.table[hash]  # 노드를 주목\n",
    "        pp = None  # 바로 앞의 노드를 주목\n",
    "\n",
    "        while p is not None:\n",
    "            if p.key == key:\n",
    "                if pp is None:\n",
    "                    self.table[hash] = p.next\n",
    "                else:\n",
    "                    pp.next = p.next\n",
    "                return True  # key 삭제 성공\n",
    "            pp = p.next  # 뒤쪽 노드를 주목\n",
    "        return False  # 삭제 실패(key가 존재하지 않음)\n",
    "    \n",
    "    \n",
    "    def dump(self) -> None:\n",
    "        \"\"\"해시 테이블을 덤프(내용을 통째로 출력)\"\"\"\n",
    "        for i in range(self.capacity):\n",
    "            p = self.table[i]\n",
    "            print(i, end='')\n",
    "            while p is not None:\n",
    "                print(f'  ⇾ {p.key} ({p.value})', end='')  # 해시값이 같은 버킷의 (키:값)을 화살표로 연결\n",
    "                p = p.next\n",
    "            print()"
   ]
  },
  {
   "cell_type": "markdown",
   "metadata": {},
   "source": [
    "### 실습 3-6. 체인법을 구현하는 해시 클래스 ChainedHash의 사용\n",
    "\n",
    "- 실습 3-5와 달리 키를 int형 정숫값, 값을 str형 문자열로 함"
   ]
  },
  {
   "cell_type": "code",
   "execution_count": 14,
   "metadata": {},
   "outputs": [
    {
     "name": "stdout",
     "output_type": "stream",
     "text": [
      "(1)추가   (2)삭제   (3)검색   (4)덤프   (5)종료\n",
      "(1)추가   (2)삭제   (3)검색   (4)덤프   (5)종료\n",
      "(1)추가   (2)삭제   (3)검색   (4)덤프   (5)종료\n",
      "(1)추가   (2)삭제   (3)검색   (4)덤프   (5)종료\n",
      "(1)추가   (2)삭제   (3)검색   (4)덤프   (5)종료\n",
      "(1)추가   (2)삭제   (3)검색   (4)덤프   (5)종료\n",
      "검색한 키를 갖는 값은 동혁입니다.\n",
      "\n",
      "(1)추가   (2)삭제   (3)검색   (4)덤프   (5)종료\n",
      "-----해시테이블 내부를 출력합니다.-----\n",
      "0\n",
      "1  ⇾ 14 (민서)  ⇾ 1 (수연)\n",
      "2\n",
      "3\n",
      "4\n",
      "5  ⇾ 5 (동혁)\n",
      "6\n",
      "7\n",
      "8\n",
      "9\n",
      "10  ⇾ 10 (예지)\n",
      "11\n",
      "12  ⇾ 12 (원준)\n",
      "\n",
      "(1)추가   (2)삭제   (3)검색   (4)덤프   (5)종료\n",
      "(1)추가   (2)삭제   (3)검색   (4)덤프   (5)종료\n",
      "-----해시테이블 내부를 출력합니다.-----\n",
      "0\n",
      "1  ⇾ 1 (수연)\n",
      "2\n",
      "3\n",
      "4\n",
      "5  ⇾ 5 (동혁)\n",
      "6\n",
      "7\n",
      "8\n",
      "9\n",
      "10  ⇾ 10 (예지)\n",
      "11\n",
      "12  ⇾ 12 (원준)\n",
      "\n",
      "(1)추가   (2)삭제   (3)검색   (4)덤프   (5)종료\n",
      "-----해시테이블 내부를 출력합니다.-----\n",
      "0\n",
      "1  ⇾ 1 (수연)\n",
      "2\n",
      "3\n",
      "4\n",
      "5  ⇾ 5 (동혁)\n",
      "6\n",
      "7\n",
      "8\n",
      "9\n",
      "10  ⇾ 10 (예지)\n",
      "11\n",
      "12  ⇾ 12 (원준)\n",
      "\n",
      "(1)추가   (2)삭제   (3)검색   (4)덤프   (5)종료"
     ]
    }
   ],
   "source": [
    "from enum import Enum  # Enum(열거형) 클래스를 정의할 수 있게 해주는 라이브러리\n",
    "                       # - 고정된 상수 집합을 정의할 때 사용\n",
    "                       # - 각 항목(m.name)은 1 부터 자동으로 번호(m.value)가 매겨짐\n",
    "from chained_hash import ChainedHash\n",
    "\n",
    "Menu = Enum('Menu', ['추가', '삭제', '검색', '덤프', '종료'])  # 메뉴를 선언\n",
    "\n",
    "def select_menu() -> Menu:\n",
    "    \"\"\"메뉴 선택\"\"\"\n",
    "    s = [f'({m.value}){m.name}' for m in Menu]  # 리스트 컴프리헨션 # m.value, m.name은 각각 Enum 멤버의 이름/값을 나타냄\n",
    "    while True:\n",
    "        print(*s, sep = '   ', end='')  # *s : 리스트 s의 요소를 하나씩 꺼내서 인자로 전달(unpacking)\n",
    "                                        # e.g.) print(*(1, 2, 3))  # => 1 2 3\n",
    "        n = int(input(': '))\n",
    "        if 1 <= n <= len(Menu):\n",
    "            return Menu(n)\n",
    "       \n",
    "        \n",
    "hash = ChainedHash(13)  # 크기가 13인 해시 테이블을 생성\n",
    "\n",
    "while True:\n",
    "    menu = select_menu()  # 메뉴 선택\n",
    "\n",
    "    if menu == Menu.추가:\n",
    "        key = int(input('추가할 키를 입력하세요.: '))\n",
    "        val = input('추가할 값을 입력하세요.: ')\n",
    "        if not hash.add(key, val):  # 함수 반환 값이 True 가 아닐 경우\n",
    "            print('\\n추가를 실패했습니다!')\n",
    "    \n",
    "    elif menu == Menu.삭제:\n",
    "        key = int(input('삭제할 키를 입력하세요.: '))\n",
    "        if not hash.remove(key):  # 함수 반환 값이 True 가 아닐 경우\n",
    "            print('\\n삭제를 실패했습니다!')\n",
    "\n",
    "    elif menu == Menu.검색:\n",
    "        key = int(input('검색할 키를 입력하세요.: '))\n",
    "        t = hash.search(key)\n",
    "        if t is not None:\n",
    "            print(f'\\n검색한 키를 갖는 값은 {t}입니다.')\n",
    "        else:\n",
    "            print('\\n검색할 데이터가 없습니다.')\n",
    "    \n",
    "    elif menu == Menu.덤프:\n",
    "        print('\\n-----해시테이블 내부를 출력합니다.-----')\n",
    "        hash.dump()\n",
    "\n",
    "    else:\n",
    "        break\n",
    "\n",
    "    print()"
   ]
  },
  {
   "cell_type": "markdown",
   "metadata": {},
   "source": [
    "> 참고. Enum 클래스 예시"
   ]
  },
  {
   "cell_type": "code",
   "execution_count": null,
   "metadata": {},
   "outputs": [
    {
     "name": "stdout",
     "output_type": "stream",
     "text": [
      "추가 1\n",
      "삭제 2\n",
      "검색 3\n",
      "Menu.추가\n",
      "Menu.삭제\n",
      "Menu.추가\n"
     ]
    }
   ],
   "source": [
    "from enum import Enum\n",
    "\n",
    "Menu = Enum('Menu', ['추가', '삭제', '검색'])\n",
    "\n",
    "\"\"\"\n",
    "# 내부 모습\n",
    "class Menu(Enum):  # Menu는 Enum 클래스의 서브(자식)클래스임\n",
    "    추가 = 1\n",
    "    삭제 = 2\n",
    "    검색 = 3\n",
    "\n",
    "\"\"\"\n",
    "\n",
    "# 동적 클래스로 정의 (실행 중에 정의되는 클래스. 그 반대는 코드 작성 시점에 정의되는 정적 클래스)\n",
    "for m in Menu:\n",
    "    print(m.name, m.value)\n",
    "\n",
    "\n",
    "# 상속 받은 기능 사용\n",
    "print(Menu.추가)          # Menu.추가\n",
    "print(Menu['삭제'])       # Menu.삭제\n",
    "print(Menu(1))           # Menu.추가 (value로 접근)"
   ]
  },
  {
   "cell_type": "markdown",
   "metadata": {
    "id": "hZ_Cbni8XDNO"
   },
   "source": [
    "## 오픈 주소법(Open Addressing) / 닫힌 해시법(Closed Hasing)\n",
    "\n",
    "충돌이 발생했을 때 재해시(rehashing)를 수행하여 빈 버킷을 찾는 방법. <br> \n",
    "\n",
    "- 재해시를 위한 해시 함수는 자유롭게 정할 수 있음. (실습 3-7, 3-8에서는 해시값은 13이고 키에 계속 1을 더하는 방식으로 함)\n",
    "\n",
    "    - 원소 추가 : 빈 버킷이 나올 때까지 반복 (이 때문에 선형 탐사법(linear probing)이라고도 함)\n",
    "    - 원소 삭제 : 특정 버킷을 비우면 될 것 같지만 데이터를 찾을 때 검색에 실패할 수 있음\n",
    "        - 오류를 방지하기 위해 각 버킷에 다음과 같은 속성들을 부여함\n",
    "            1) 데이터가 저장되어 있음(숫자)\n",
    "            2) 비어있음(-)\n",
    "            3) 삭제완료(★)\n",
    "    - 원소 검색 : 원하는 값을 찾을 때까지 재해시를 반복"
   ]
  },
  {
   "cell_type": "markdown",
   "metadata": {},
   "source": [
    "### 실습 3-7. 오픈 주소법으로 해시 함수 구현하기"
   ]
  },
  {
   "cell_type": "code",
   "execution_count": null,
   "metadata": {},
   "outputs": [],
   "source": [
    "from __future__ import annotations\n",
    "from typing import Any, Type\n",
    "from enum import Enum\n",
    "import hashlib\n",
    "\n",
    "# 버킷의 속성\n",
    "class Status(Enum):\n",
    "    OCCUPIED = 0  # 데이터를 저장\n",
    "    EMPTY = 1  # 비어있음\n",
    "    DELETED = 2 # 삭제 완료\n",
    "\n",
    "\n",
    "class Bucket:\n",
    "    \"\"\"해시를 구성하는 버킷\"\"\"\n",
    "\n",
    "    def __init__(self, key: Any = None, value: Any = None,\n",
    "                 stat: Status = Status.EMPTY) -> None:  # '-> None'문법으로 보아 해당 함수는 반환 값이 없음을 의미\n",
    "        \"\"\"초기화\"\"\"\n",
    "        self.key = key  # 키\n",
    "        self.value = value  # 값\n",
    "        self.stat = stat  # 속성\n",
    "\n",
    "    def set(self, key: Any, value: Any, stat: Status) -> None:  # 위의 init과 달리, 이미 만들어진 객체에 값을 덮어쓸 수 있는 함수\n",
    "        \"\"\"모든 필드에 값을 설정\"\"\"\n",
    "        self.key = key  # 키\n",
    "        self.value = value  # 값\n",
    "        self.stat = stat  # 속성\n",
    "\n",
    "    def set_status(self, stat: Status) -> None:  # def set에 이미 속성이 있지만, 단순히 stat만 바꾸고 싶을 때 불필요하게 key/value까지 다시 넘기지 않도록 분리함\n",
    "        \"\"\"속성을 설정\"\"\"\n",
    "        self.stat = stat\n",
    "\n",
    "\n",
    "class OpenHash:\n",
    "    \"\"\"오픈 주소법으로 구현하는 해시 클래스\"\"\"\n",
    "\n",
    "    def __init__(self, capacity: int) -> None:\n",
    "        \"\"\"초기화\"\"\"\n",
    "        self.capacity = capacity  # 해시 테이블의 크기를 지정\n",
    "        self.table = [Bucket()] * self.capacity  # 해시 테이블\n",
    "\n",
    "    def hash_value(self, key: Any) -> int:\n",
    "        \"\"\"해시값을 구함\"\"\"\n",
    "        if isinstance(key, int):  # isinstance(obj, type) 함수는 객체 obj가 해당 타입인지 확인하는 내장 함수 \n",
    "            return key % self.capacity\n",
    "        return(int(hashlib.md5(str(key).encode()).hexdigest(), 16) % self.capacity)\n",
    "    \n",
    "    def rehash_value(self, key: Any) -> int:\n",
    "        \"\"\"재해시값을 구함\"\"\"\n",
    "        return(self.hash_value(key) + 1) % self.capacity\n",
    "    \n",
    "    def search_node(self, key: Any) -> Any:  # 버킷 객체를 반환 (내부적으로 조작 시 사용)\n",
    "        \"\"\"키가 key인 버킷을 검색\"\"\"\n",
    "        hash = self.hash_value(key)  # 검색하는 키의 해시값\n",
    "        p = self.table[hash]  # 버킷을 주목\n",
    "\n",
    "        for i in range(self.capacity):  # i 말고 _로 하는 게 파이썬 관용이지만 i로 써도 됨  \n",
    "                                        # 왜 해시 테이블 크기 만큼 반복해야하는지? 모든 버킷을 확인해도 빈자리가 없을 수 있기에, 전체 테이블 만큼 순회해야 함\n",
    "            if p.stat == Status.EMPTY:\n",
    "                break\n",
    "            elif p.stat == Status.OCCUPIED and p.key == key:\n",
    "                return p\n",
    "            hash = self.rehash_value(hash)  # 재해시\n",
    "            p = self.table[hash]\n",
    "        return None\n",
    "    \n",
    "    def search(self, key: Any) -> Any:  # 버킷의 value만 반환 (사용자에게 보여줄 때 사용)\n",
    "        \"\"\"키가 key인 원소를 검색하여 값을 반환\"\"\"\n",
    "        p = self.search_node(key)\n",
    "        if p is not None:\n",
    "            return p.value  # 검색 성공\n",
    "        else:\n",
    "            return None  # 검색 실패\n",
    "        \n",
    "    def add(self, key: Any, value: Any) -> bool:\n",
    "        \"\"\"키가 key이고 값이 value인 원소를 추가\"\"\"\n",
    "        if self.search(key) is not None:\n",
    "            return False  # 이미 등록된 키\n",
    "        \n",
    "        hash = self.hash_value(key)  # 추가하는 키의 해시값\n",
    "        p = self.table[hash]  # 버킷을 주목\n",
    "        for i in range(self.capacity):\n",
    "            if p.stat == Status.EMPTY or p.stat == Status.DELETED:\n",
    "                self.table[hash] = Bucket(key, value, Status.OCCUPIED)\n",
    "                return True\n",
    "            hash = self.rehash_value(hash)  # 재해시\n",
    "            p = self.table[hash]\n",
    "        return False  # 해시 테이블이 가득 참 (EMPTY or DELETED 버킷을 찾지 못했다면 테이블 전체가 꽉 찼다는 것을 의미)\n",
    "    \n",
    "    def remove(self, key: Any) -> int:\n",
    "        \"\"\"키가 key인 원소를 삭제\"\"\"\n",
    "        p = self.search_node(key)  # 버킷을 주목\n",
    "        if p is None:\n",
    "            return False  # 이 키는 등록되어 있지 않음\n",
    "        p.set_status(Status.DELETED)\n",
    "        return True\n",
    "    \n",
    "    def dump(self) -> None:\n",
    "        \"\"\"해시 테이블을 덤프\"\"\"\n",
    "        for i in range(self.capacity):\n",
    "            print(f'{i:2} ', end='')\n",
    "            if self.table[i].stat == Status.OCCUPIED:\n",
    "                print(f'{self.table[i].key} ({self.table[i].value})')\n",
    "            elif self.table[i].stat == Status.EMPTY:\n",
    "                print('-- 미등록 --')\n",
    "            elif self.table[i].stat == Status.DELETED:\n",
    "                print('-- 삭제 완료 --')"
   ]
  },
  {
   "cell_type": "markdown",
   "metadata": {},
   "source": [
    "### 실습 3-8. 오픈 주소법을 구현하는 해시 클래스 Openhash 사용"
   ]
  },
  {
   "cell_type": "code",
   "execution_count": null,
   "metadata": {},
   "outputs": [],
   "source": []
  }
 ],
 "metadata": {
  "colab": {
   "authorship_tag": "ABX9TyOZtkn5yPW+TAXWmLtG2BYm",
   "provenance": []
  },
  "kernelspec": {
   "display_name": "sesac",
   "language": "python",
   "name": "python3"
  },
  "language_info": {
   "codemirror_mode": {
    "name": "ipython",
    "version": 3
   },
   "file_extension": ".py",
   "mimetype": "text/x-python",
   "name": "python",
   "nbconvert_exporter": "python",
   "pygments_lexer": "ipython3",
   "version": "3.12.4"
  }
 },
 "nbformat": 4,
 "nbformat_minor": 0
}
