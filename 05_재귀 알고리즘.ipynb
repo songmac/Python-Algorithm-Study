{
 "cells": [
  {
   "cell_type": "markdown",
   "id": "cca5519b",
   "metadata": {},
   "source": [
    "# 05-1. 재귀 알고리즘의 기본"
   ]
  },
  {
   "cell_type": "markdown",
   "id": "10f85bc6",
   "metadata": {},
   "source": [
    "## 재귀 알아보기"
   ]
  },
  {
   "cell_type": "code",
   "execution_count": null,
   "id": "32271620",
   "metadata": {},
   "outputs": [],
   "source": []
  },
  {
   "cell_type": "markdown",
   "id": "b5803ea3",
   "metadata": {},
   "source": [
    "## 팩토리얼 알아보기"
   ]
  },
  {
   "cell_type": "markdown",
   "id": "c60bb1ce",
   "metadata": {},
   "source": [
    "### 실습 5-1. 양의 정수 n의 팩토리얼 구하기"
   ]
  },
  {
   "cell_type": "code",
   "execution_count": null,
   "id": "9615c494",
   "metadata": {},
   "outputs": [],
   "source": []
  },
  {
   "cell_type": "markdown",
   "id": "ad1db5a9",
   "metadata": {},
   "source": [
    "## 유클리드 호제법 알아보기"
   ]
  },
  {
   "cell_type": "markdown",
   "id": "d194e396",
   "metadata": {},
   "source": [
    "### 실습 5-2. 유클리드 호제법으로 최대 공약수 구하기"
   ]
  },
  {
   "cell_type": "code",
   "execution_count": null,
   "id": "b200e106",
   "metadata": {},
   "outputs": [],
   "source": []
  },
  {
   "cell_type": "markdown",
   "id": "112be0ec",
   "metadata": {},
   "source": [
    "# 05-2. 재귀 알고리즘 분석"
   ]
  },
  {
   "cell_type": "markdown",
   "id": "d7e86fc3",
   "metadata": {},
   "source": [
    "## 재귀 알고리즘의 2가지 분석 방법"
   ]
  },
  {
   "cell_type": "markdown",
   "id": "d22ba341",
   "metadata": {},
   "source": [
    "### 실습 5-3. 순수한 재귀 함수 구현하기"
   ]
  },
  {
   "cell_type": "code",
   "execution_count": null,
   "id": "5c3c596d",
   "metadata": {},
   "outputs": [],
   "source": []
  },
  {
   "cell_type": "markdown",
   "id": "fe56cd0c",
   "metadata": {},
   "source": [
    "## 재귀 알고리즘의 비재귀적 표현"
   ]
  },
  {
   "cell_type": "markdown",
   "id": "e7a49407",
   "metadata": {},
   "source": [
    "### 실습 5-4. 비재귀적으로 재귀 함수 구현하기(꼬리 재귀를 제거)"
   ]
  },
  {
   "cell_type": "code",
   "execution_count": null,
   "id": "64980280",
   "metadata": {},
   "outputs": [],
   "source": []
  },
  {
   "cell_type": "markdown",
   "id": "f5c15472",
   "metadata": {},
   "source": [
    "### 실습 5-5. 스택으로 재귀 함수 구현하기(재귀를 제거)"
   ]
  },
  {
   "cell_type": "code",
   "execution_count": null,
   "id": "30f69a5f",
   "metadata": {},
   "outputs": [],
   "source": []
  },
  {
   "cell_type": "markdown",
   "id": "4c58f3e2",
   "metadata": {},
   "source": [
    "# 05-3. 하노이의 탑"
   ]
  },
  {
   "cell_type": "markdown",
   "id": "70ddef97",
   "metadata": {},
   "source": [
    "## 하노이의 탑 알아보기"
   ]
  },
  {
   "cell_type": "markdown",
   "id": "5610d57c",
   "metadata": {},
   "source": [
    "### 실습 5-6. 하노이의 탑 구현하기"
   ]
  },
  {
   "cell_type": "code",
   "execution_count": null,
   "id": "2be8813c",
   "metadata": {},
   "outputs": [],
   "source": []
  },
  {
   "cell_type": "markdown",
   "id": "ed3e9363",
   "metadata": {},
   "source": [
    "# 05-4. 8퀸 문제"
   ]
  },
  {
   "cell_type": "markdown",
   "id": "921f09b3",
   "metadata": {},
   "source": [
    "## 8퀸 문제 알아보기"
   ]
  },
  {
   "cell_type": "markdown",
   "id": "4bb92fde",
   "metadata": {},
   "source": [
    "## 퀸 배치하기"
   ]
  },
  {
   "cell_type": "markdown",
   "id": "ba619fab",
   "metadata": {},
   "source": [
    "## 분기 작업으로 문제 해결하기"
   ]
  },
  {
   "cell_type": "markdown",
   "id": "e5a58793",
   "metadata": {},
   "source": [
    "### 실습 5-7. 각 열에 퀸을 1개 배치하는 조합을 재귀적으로 나열하기"
   ]
  },
  {
   "cell_type": "code",
   "execution_count": null,
   "id": "7e926d4f",
   "metadata": {},
   "outputs": [],
   "source": []
  },
  {
   "cell_type": "markdown",
   "id": "95363545",
   "metadata": {},
   "source": [
    "## 한정 작업과 분기 한정법"
   ]
  },
  {
   "cell_type": "markdown",
   "id": "c94895be",
   "metadata": {},
   "source": [
    "### 실습 5-8. 행과 열에 퀸을 1개 배치하는 조합을 재귀적으로 나열하기"
   ]
  },
  {
   "cell_type": "code",
   "execution_count": null,
   "id": "af5e140d",
   "metadata": {},
   "outputs": [],
   "source": []
  },
  {
   "cell_type": "markdown",
   "id": "d06b650c",
   "metadata": {},
   "source": [
    "## 8퀸 문제 해결 프로그램 만들기"
   ]
  },
  {
   "cell_type": "markdown",
   "id": "9c15148d",
   "metadata": {},
   "source": [
    "### 실습 5-9. 8퀸 문제 알고리즘 구현하기"
   ]
  },
  {
   "cell_type": "code",
   "execution_count": null,
   "id": "75fc8b5c",
   "metadata": {},
   "outputs": [],
   "source": []
  }
 ],
 "metadata": {
  "kernelspec": {
   "display_name": "sesac",
   "language": "python",
   "name": "python3"
  },
  "language_info": {
   "name": "python",
   "version": "3.12.4"
  }
 },
 "nbformat": 4,
 "nbformat_minor": 5
}
